{
 "cells": [
  {
   "cell_type": "code",
   "execution_count": 18,
   "metadata": {},
   "outputs": [
    {
     "name": "stdout",
     "output_type": "stream",
     "text": [
      "Margaux (restaurant)\n",
      "The Meat Co. (restaurant)\n",
      "Unnamed Place (parking_entrance)\n",
      "Cinema Parking Dubai Mall (parking_entrance)\n",
      "Unnamed Place (parking)\n"
     ]
    }
   ],
   "source": [
    "import requests\n",
    "\n",
    "def get_nearby_establishments(lat, lon, radius=1000):\n",
    "    overpass_url = \"https://overpass-api.de/api/interpreter\"\n",
    "    \n",
    "    query = f\"\"\"\n",
    "    [out:json];\n",
    "    node(around:{radius},{lat},{lon})[amenity];\n",
    "    out;\n",
    "    \"\"\"\n",
    "\n",
    "    response = requests.get(overpass_url, params={'data': query})\n",
    "    data = response.json()\n",
    "\n",
    "    places = []\n",
    "    for element in data.get(\"elements\", []):\n",
    "        name = element.get(\"tags\", {}).get(\"name\", \"Unnamed Place\")\n",
    "        amenity = element.get(\"tags\", {}).get(\"amenity\", \"Unknown\")\n",
    "        places.append({\"name\": name, \"type\": amenity})\n",
    "\n",
    "    return places\n",
    "\n",
    "latitude = 25.19728455337356\n",
    "longitude = 55.274118084946984\n",
    "places = get_nearby_establishments(latitude, longitude)\n",
    "\n",
    "for place in places[:5]:\n",
    "    print(f\"{place['name']} ({place['type']})\")\n"
   ]
  }
 ],
 "metadata": {
  "kernelspec": {
   "display_name": "base",
   "language": "python",
   "name": "python3"
  },
  "language_info": {
   "codemirror_mode": {
    "name": "ipython",
    "version": 3
   },
   "file_extension": ".py",
   "mimetype": "text/x-python",
   "name": "python",
   "nbconvert_exporter": "python",
   "pygments_lexer": "ipython3",
   "version": "3.12.7"
  }
 },
 "nbformat": 4,
 "nbformat_minor": 2
}
