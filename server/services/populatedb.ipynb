{
 "cells": [
  {
   "cell_type": "code",
   "execution_count": 2,
   "metadata": {},
   "outputs": [],
   "source": [
    "from geo_loc_info import get_nearby_establishments"
   ]
  },
  {
   "cell_type": "code",
   "execution_count": 22,
   "metadata": {},
   "outputs": [
    {
     "name": "stdout",
     "output_type": "stream",
     "text": [
      "['id', 'type', 'severity', 'location', 'latitude', 'longitude', 'timestamp', 'description', 'image', 'video_path', 'geo_info', 'responder_type', 'response_time', 'resolution_time', 'status']\n",
      "Latitude: 24.467, Longitude: 54.365\n",
      "Unnamed Place\n",
      "Updated 'geo_info' of alert ID 1 to 'Unnamed Place (hospital) ,دجاج كنتاكي (fast_food) ,دجاج كنتاكي (fast_food) ,Texas Chicken (restaurant) ,First Abu Dhabi Bank (FAB) (bank) ,'.\n",
      "Latitude: 24.4669, Longitude: 54.3424\n",
      "La Brioche\n",
      "Updated 'geo_info' of alert ID 2 to 'La Brioche (cafe) ,تيم هورتونز (cafe) ,Unnamed Place (parking) ,Unnamed Place (toilets) ,Cold Stone Creamery (ice_cream) ,'.\n",
      "Latitude: 24.4699, Longitude: 54.3296\n",
      "Byky Sport & Leisure\n",
      "Updated 'geo_info' of alert ID 3 to 'Byky Sport & Leisure (bicycle_rental) ,La Terrazza (restaurant) ,Vasco's (restaurant) ,Special Restaurant & Cafe (restaurant) ,Bocca (restaurant) ,'.\n",
      "Latitude: 24.4993, Longitude: 54.3858\n",
      "Brauhaus\n",
      "Updated 'geo_info' of alert ID 4 to 'Brauhaus (pub) ,Trader Vic's (restaurant) ,Emirates NBD (bank) ,Abu Dhabi Mall Underground Parking (Central) (parking_entrance) ,Pizza Hut (restaurant) ,'.\n",
      "Latitude: 24.4954, Longitude: 54.6054\n",
      "Unnamed Place\n",
      "Updated 'geo_info' of alert ID 5 to 'Unnamed Place (parking_entrance) ,Covered, North Entrance (parking_entrance) ,The Cheesecake Factory (restaurant) ,ستاربكس (cafe) ,Unnamed Place (toilets) ,'.\n",
      "Latitude: 24.4465, Longitude: 54.3994\n",
      "Sherwood Academy\n",
      "Updated 'geo_info' of alert ID 6 to 'Sherwood Academy (school) ,Chawarmino Restaurant (restaurant) ,Pizza Hut (restaurant) ,Al Ahaliya Pharmacy (pharmacy) ,Sea Shell Restaurant (restaurant) ,'.\n",
      "Latitude: 24.4571, Longitude: 54.6006\n",
      "Unnamed Place\n",
      "Updated 'geo_info' of alert ID 7 to 'Unnamed Place (drinking_water) ,Unnamed Place (parking_entrance) ,Unnamed Place (parking_entrance) ,Stills (bar) ,Unnamed Place (parking_entrance) ,'.\n"
     ]
    }
   ],
   "source": [
    "import sqlite3\n",
    "\n",
    "# Connect to the SQLite database\n",
    "db_path = \"alerts.db\"  # Ensure this path is correct\n",
    "conn = sqlite3.connect(db_path)\n",
    "cursor = conn.cursor()\n",
    "\n",
    "# Get all column names from the 'alert' table\n",
    "cursor.execute(\"PRAGMA table_info(alerts);\")\n",
    "columns = [col[1] for col in cursor.fetchall()]\n",
    "print(columns)\n",
    "\n",
    "# Identify latitude and longitude columns\n",
    "lat_col = next((col for col in columns if \"latitude\" in col.lower()), None)\n",
    "lon_col = next((col for col in columns if \"longitude\" in col.lower()), None)\n",
    "\n",
    "if lat_col and lon_col:\n",
    "    # Fetch all latitude and longitude values\n",
    "    cursor.execute(f\"SELECT {lat_col}, {lon_col} FROM alerts;\")\n",
    "    lat_lon_data = cursor.fetchall()\n",
    "\n",
    "    # Print results\n",
    "    i=1\n",
    "    for lat, lon in lat_lon_data:\n",
    "        print(f\"Latitude: {lat}, Longitude: {lon}\")\n",
    "        near_establishments=get_nearby_establishments(lat=lat,lon=lon)\n",
    "        print(near_establishments[0][\"name\"])\n",
    "        geo_loc=\"\"\n",
    "        for establishment in near_establishments:\n",
    "            geo_loc = geo_loc + f\"{establishment[\"name\"]}\" + f\" ({establishment[\"type\"]}) ,\"\n",
    "        # near_establishments\n",
    "        # comma_separated_str = \", \".join(map(str, near_establishments))\n",
    "\n",
    "        update_alert(i,\"geo_info\",geo_loc)\n",
    "        i+=1\n",
    "\n",
    "else:\n",
    "    print(\"No latitude/longitude columns found in the 'alert' table.\")\n",
    "\n",
    "# Close the connection\n",
    "conn.close()\n"
   ]
  },
  {
   "cell_type": "code",
   "execution_count": 14,
   "metadata": {},
   "outputs": [],
   "source": [
    "def update_alert(alert_id, column, new_value):\n",
    "    \"\"\"Updates a specific column in the alerts table for a given id.\"\"\"\n",
    "    conn = sqlite3.connect(db_path)\n",
    "    cursor = conn.cursor()\n",
    "    \n",
    "    # Ensure column name is valid\n",
    "    valid_columns = [\"type\", \"severity\", \"location\", \"latitude\", \"longitude\", \"timestamp\", \"description\", \"image\", \"video_path\", \"geo_info\", \"responder_type\", \"response_time\", \"resolution_time\", \"status\"]\n",
    "    if column not in valid_columns:\n",
    "        print(f\"Error: '{column}' is not a valid column name.\")\n",
    "        return\n",
    "    \n",
    "    # Create query and execute update\n",
    "    query = f\"UPDATE alerts SET {column} = ? WHERE id = ?\"\n",
    "    cursor.execute(query, (new_value, alert_id))\n",
    "    \n",
    "    conn.commit()\n",
    "    conn.close()\n",
    "    print(f\"Updated '{column}' of alert ID {alert_id} to '{new_value}'.\")"
   ]
  }
 ],
 "metadata": {
  "kernelspec": {
   "display_name": "base",
   "language": "python",
   "name": "python3"
  },
  "language_info": {
   "codemirror_mode": {
    "name": "ipython",
    "version": 3
   },
   "file_extension": ".py",
   "mimetype": "text/x-python",
   "name": "python",
   "nbconvert_exporter": "python",
   "pygments_lexer": "ipython3",
   "version": "3.12.7"
  }
 },
 "nbformat": 4,
 "nbformat_minor": 2
}
