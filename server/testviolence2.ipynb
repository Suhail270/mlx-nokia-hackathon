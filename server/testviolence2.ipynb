{
 "cells": [
  {
   "cell_type": "code",
   "execution_count": 1,
   "metadata": {},
   "outputs": [
    {
     "data": {
      "application/vnd.jupyter.widget-view+json": {
       "model_id": "563d8b59df544fb0ab51193592c0ef03",
       "version_major": 2,
       "version_minor": 0
      },
      "text/plain": [
       "preprocessor_config.json:   0%|          | 0.00/707 [00:00<?, ?B/s]"
      ]
     },
     "metadata": {},
     "output_type": "display_data"
    },
    {
     "name": "stderr",
     "output_type": "stream",
     "text": [
      "Using a slow image processor as `use_fast` is unset and a slow processor was saved with this model. `use_fast=True` will be the default behavior in v4.48, even if the model was saved with a slow processor. This will result in minor differences in outputs. You'll still be able to use a slow processor with `use_fast=False`.\n"
     ]
    },
    {
     "data": {
      "application/vnd.jupyter.widget-view+json": {
       "model_id": "b187b40c8e434d9fa88c08ba86622ad7",
       "version_major": 2,
       "version_minor": 0
      },
      "text/plain": [
       "config.json:   0%|          | 0.00/929 [00:00<?, ?B/s]"
      ]
     },
     "metadata": {},
     "output_type": "display_data"
    },
    {
     "data": {
      "application/vnd.jupyter.widget-view+json": {
       "model_id": "21680f01358c4bd4b41beb902ddea8c4",
       "version_major": 2,
       "version_minor": 0
      },
      "text/plain": [
       "model.safetensors:   0%|          | 0.00/345M [00:00<?, ?B/s]"
      ]
     },
     "metadata": {},
     "output_type": "display_data"
    }
   ],
   "source": [
    "from transformers import AutoImageProcessor, AutoModelForVideoClassification\n",
    "import torch\n",
    "import cv2\n",
    "from PIL import Image\n",
    "import numpy as np\n",
    "\n",
    "# Load model and processor\n",
    "processor = AutoImageProcessor.from_pretrained(\"phamgiathinh/violence_finetune\")\n",
    "model = AutoModelForVideoClassification.from_pretrained(\"phamgiathinh/violence_finetune\")\n",
    "\n",
    "# Extract frames from the video\n",
    "def extract_frames(video_path, frame_interval=10):\n",
    "    cap = cv2.VideoCapture(video_path)\n",
    "    frames = []\n",
    "    frame_count = 0\n",
    "\n",
    "    while cap.isOpened():\n",
    "        success, frame = cap.read()\n",
    "        if not success:\n",
    "            break\n",
    "        \n",
    "        if frame_count % frame_interval == 0:\n",
    "            frame = cv2.cvtColor(frame, cv2.COLOR_BGR2RGB)\n",
    "            image = Image.fromarray(frame)\n",
    "            frames.append(image)\n",
    "        \n",
    "        frame_count += 1\n",
    "\n",
    "    cap.release()\n",
    "    return frames\n",
    "\n",
    "# Classify a video\n",
    "def classify_video(video_path):\n",
    "    frames = extract_frames(video_path, frame_interval=10)\n",
    "    inputs = processor(images=frames, return_tensors=\"pt\")\n",
    "\n",
    "    with torch.no_grad():\n",
    "        outputs = model(**inputs)\n",
    "        logits = outputs.logits\n",
    "        predicted_class_idx = logits.argmax(-1).item()\n",
    "    \n",
    "    return model.config.id2label[predicted_class_idx]\n",
    "\n",
    "\n"
   ]
  },
  {
   "cell_type": "markdown",
   "metadata": {},
   "source": [
    "## Examples of use"
   ]
  },
  {
   "cell_type": "code",
   "execution_count": 6,
   "metadata": {},
   "outputs": [
    {
     "name": "stdout",
     "output_type": "stream",
     "text": [
      "Collecting av\n",
      "  Downloading av-14.1.0-cp312-cp312-win_amd64.whl.metadata (4.8 kB)\n",
      "Downloading av-14.1.0-cp312-cp312-win_amd64.whl (30.6 MB)\n",
      "   ---------------------------------------- 0.0/30.6 MB ? eta -:--:--\n",
      "   ---------------------------------------- 0.0/30.6 MB ? eta -:--:--\n",
      "   ---------------------------------------- 0.0/30.6 MB ? eta -:--:--\n",
      "   ---------------------------------------- 0.0/30.6 MB ? eta -:--:--\n",
      "   ---------------------------------------- 0.3/30.6 MB ? eta -:--:--\n",
      "   - -------------------------------------- 1.0/30.6 MB 2.1 MB/s eta 0:00:15\n",
      "   --- ------------------------------------ 2.4/30.6 MB 3.5 MB/s eta 0:00:09\n",
      "   ------ --------------------------------- 5.0/30.6 MB 5.9 MB/s eta 0:00:05\n",
      "   ----------- ---------------------------- 8.7/30.6 MB 8.3 MB/s eta 0:00:03\n",
      "   ----------------- ---------------------- 13.4/30.6 MB 10.8 MB/s eta 0:00:02\n",
      "   --------------------------- ------------ 20.7/30.6 MB 14.2 MB/s eta 0:00:01\n",
      "   ---------------------------------- ----- 26.5/30.6 MB 16.0 MB/s eta 0:00:01\n",
      "   ---------------------------------------  30.4/30.6 MB 16.5 MB/s eta 0:00:01\n",
      "   ---------------------------------------- 30.6/30.6 MB 15.2 MB/s eta 0:00:00\n",
      "Installing collected packages: av\n",
      "Successfully installed av-14.1.0\n",
      "Note: you may need to restart the kernel to use updated packages.\n"
     ]
    }
   ],
   "source": [
    "%pip install av\n"
   ]
  },
  {
   "cell_type": "code",
   "execution_count": 1,
   "metadata": {},
   "outputs": [
    {
     "name": "stderr",
     "output_type": "stream",
     "text": [
      "Using a slow image processor as `use_fast` is unset and a slow processor was saved with this model. `use_fast=True` will be the default behavior in v4.48, even if the model was saved with a slow processor. This will result in minor differences in outputs. You'll still be able to use a slow processor with `use_fast=False`.\n",
      "Device set to use cpu\n"
     ]
    },
    {
     "name": "stdout",
     "output_type": "stream",
     "text": [
      "[{'score': 0.9481539130210876, 'label': 'Non_Vio'}, {'score': 0.05184602364897728, 'label': 'Vio'}]\n"
     ]
    }
   ],
   "source": [
    "from transformers import pipeline\n",
    "\n",
    "# Load the video classification pipeline\n",
    "pipe = pipeline(\"video-classification\", model=\"phamgiathinh/violence_finetune\")\n",
    "\n",
    "# Run inference on a video\n",
    "video_path = \"videos/normal-vid.mp4\"\n",
    "result = pipe(video_path)\n",
    "\n",
    "# Print the result\n",
    "print(result)\n"
   ]
  },
  {
   "cell_type": "code",
   "execution_count": 4,
   "metadata": {},
   "outputs": [
    {
     "name": "stdout",
     "output_type": "stream",
     "text": [
      "[{'score': 0.8588823080062866, 'label': 'Non_Vio'}, {'score': 0.14111769199371338, 'label': 'Vio'}]\n"
     ]
    }
   ],
   "source": [
    "violentvid=\"videos/assault.mp4\"\n",
    "result = pipe(violentvid)\n",
    "print(result)"
   ]
  },
  {
   "cell_type": "code",
   "execution_count": 5,
   "metadata": {},
   "outputs": [
    {
     "name": "stdout",
     "output_type": "stream",
     "text": [
      "[{'score': 0.6527292728424072, 'label': 'Non_Vio'}, {'score': 0.3472706973552704, 'label': 'Vio'}]\n"
     ]
    }
   ],
   "source": [
    "violentvid2=\"videos/assault2.mp4\"\n",
    "result = pipe(violentvid2)\n",
    "print(result)"
   ]
  },
  {
   "cell_type": "code",
   "execution_count": 6,
   "metadata": {},
   "outputs": [
    {
     "name": "stdout",
     "output_type": "stream",
     "text": [
      "[{'score': 0.5920929908752441, 'label': 'Non_Vio'}, {'score': 0.40790697932243347, 'label': 'Vio'}]\n"
     ]
    }
   ],
   "source": [
    "violentvid3=\"videos/assault3.mp4\"\n",
    "result = pipe(violentvid3)\n",
    "print(result)"
   ]
  }
 ],
 "metadata": {
  "kernelspec": {
   "display_name": "base",
   "language": "python",
   "name": "python3"
  },
  "language_info": {
   "codemirror_mode": {
    "name": "ipython",
    "version": 3
   },
   "file_extension": ".py",
   "mimetype": "text/x-python",
   "name": "python",
   "nbconvert_exporter": "python",
   "pygments_lexer": "ipython3",
   "version": "3.12.7"
  }
 },
 "nbformat": 4,
 "nbformat_minor": 2
}
