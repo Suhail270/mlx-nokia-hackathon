{
 "cells": [
  {
   "cell_type": "code",
   "execution_count": 1,
   "metadata": {},
   "outputs": [],
   "source": [
    "import sqlite3\n",
    "\n",
    "# Connect to the database\n",
    "conn = sqlite3.connect(\"../alerts.db\")\n",
    "cursor = conn.cursor()\n",
    "\n",
    "# Fetch incidents from the past 7 days\n",
    "query = \"\"\"\n",
    "SELECT type, severity, location, status\n",
    "FROM alerts\n",
    "WHERE timestamp >= DATE('now', '-7 days')\n",
    "ORDER BY timestamp DESC;\n",
    "\"\"\"\n",
    "\n",
    "cursor.execute(query)\n",
    "incidents = cursor.fetchall()  # Fetch all rows\n",
    "\n",
    "# Close the database connection\n",
    "conn.close()\n"
   ]
  },
  {
   "cell_type": "code",
   "execution_count": 2,
   "metadata": {},
   "outputs": [
    {
     "name": "stdout",
     "output_type": "stream",
     "text": [
      "[('fire', 'critical', 'Al Mushrif, Abu Dhabi', 'in progress'), ('assault', 'high', 'Al Raha Beach, Abu Dhabi', 'resolved'), ('assault', 'critical', 'Reem Island, Abu Dhabi', 'resolved'), ('fire', 'warning', 'Yas Mall, Abu Dhabi', 'in progress'), ('assault', 'critical', 'Corniche Road, Abu Dhabi', 'unresolved'), ('fire', 'warning', 'Khalidiya Mall, Abu Dhabi', 'in progress'), ('fire', 'critical', 'Hamdan Street, Abu Dhabi', 'resolved')]\n"
     ]
    }
   ],
   "source": [
    "print(incidents)"
   ]
  },
  {
   "cell_type": "code",
   "execution_count": 3,
   "metadata": {},
   "outputs": [],
   "source": [
    "# Format incidents into a readable string\n",
    "incident_text = \"\\n\".join(\n",
    "    f\"Date: Type: {row[0]}, Severity: {row[1]}, Location: {row[2]}, Status: {row[3]}\"\n",
    "    for row in incidents\n",
    ")\n",
    "\n",
    "# Create the prompt for Gen AI\n",
    "prompt = f\"\"\"\n",
    "You are an AI assistant generating a weekly incident report. Be straight forward and maintain a structure that can be placed into a pdf file. Do not talk to me. Only give me the text that would be put in the PDF.\n",
    "Analyze the following incident data and summarize key insights:\n",
    "\n",
    "{incident_text}\n",
    "\n",
    "Generate a structured report with:\n",
    "- Total incidents\n",
    "- Most common incident type\n",
    "- Severity distribution\n",
    "- Locations with the highest incidents\n",
    "- Open vs closed case summary\n",
    "- Key observations & recommendations\n",
    "\"\"\"\n"
   ]
  },
  {
   "cell_type": "code",
   "execution_count": 4,
   "metadata": {},
   "outputs": [
    {
     "data": {
      "text/plain": [
       "'Date: Type: fire, Severity: critical, Location: Al Mushrif, Abu Dhabi, Status: in progress\\nDate: Type: assault, Severity: high, Location: Al Raha Beach, Abu Dhabi, Status: resolved\\nDate: Type: assault, Severity: critical, Location: Reem Island, Abu Dhabi, Status: resolved\\nDate: Type: fire, Severity: warning, Location: Yas Mall, Abu Dhabi, Status: in progress\\nDate: Type: assault, Severity: critical, Location: Corniche Road, Abu Dhabi, Status: unresolved\\nDate: Type: fire, Severity: warning, Location: Khalidiya Mall, Abu Dhabi, Status: in progress\\nDate: Type: fire, Severity: critical, Location: Hamdan Street, Abu Dhabi, Status: resolved'"
      ]
     },
     "execution_count": 4,
     "metadata": {},
     "output_type": "execute_result"
    }
   ],
   "source": [
    "incident_text"
   ]
  },
  {
   "cell_type": "code",
   "execution_count": 5,
   "metadata": {},
   "outputs": [],
   "source": [
    "from http.client import HTTPException\n",
    "import os\n",
    "from openai import OpenAI\n",
    "from dotenv import load_dotenv\n",
    "import re\n",
    "\n",
    "load_dotenv()\n",
    "NVIDIA_API_KEY = os.getenv(\"NVIDIA_API_KEY\")\n",
    "\n",
    "LLM_MODEL = \"meta/llama-3.1-70b-instruct\"\n",
    "SUMMARIZER_MODEL = \"deepseek-ai/deepseek-r1\"\n",
    "\n",
    "def extract_post_think_content(text: str) -> str:\n",
    "    \"\"\"Extract content after </think> tag.\"\"\"\n",
    "    match = re.search(r'</think>\\s*(.*?)$', text, re.DOTALL)\n",
    "    if match:\n",
    "        return match.group(1).strip()\n",
    "    return text\n",
    "\n",
    "\n",
    "embedding_client = OpenAI(api_key=NVIDIA_API_KEY, base_url=\"https://integrate.api.nvidia.com/v1\")\n",
    "llm_client = OpenAI(api_key=NVIDIA_API_KEY, base_url=\"https://integrate.api.nvidia.com/v1\")\n",
    "try:\n",
    "        messages = [\n",
    "            {\"role\": \"system\", \"content\": \"You are an AI assistant generating a weekly incident report.\"},\n",
    "            {\"role\": \"user\", \"content\": prompt}\n",
    "        ]\n",
    "        response = llm_client.chat.completions.create(\n",
    "            model=SUMMARIZER_MODEL,\n",
    "            messages=messages,\n",
    "            temperature=0.6,\n",
    "            top_p=0.7,\n",
    "            max_tokens=4096,\n",
    "            stream=False\n",
    "        )\n",
    "        summary = response.choices[0].message.content.strip()\n",
    "        processed_summary = extract_post_think_content(summary)\n",
    "except Exception as e:\n",
    "    # logger.error(f\"Error generating summary: {e}\")\n",
    "    print(\"error\")\n",
    "    # raise HTTPException(status_code=500, detail=\"Error generating summary.\")"
   ]
  },
  {
   "cell_type": "code",
   "execution_count": 6,
   "metadata": {},
   "outputs": [
    {
     "ename": "NameError",
     "evalue": "name '_summary' is not defined",
     "output_type": "error",
     "traceback": [
      "\u001b[0;31m---------------------------------------------------------------------------\u001b[0m",
      "\u001b[0;31mNameError\u001b[0m                                 Traceback (most recent call last)",
      "Cell \u001b[0;32mIn[6], line 1\u001b[0m\n\u001b[0;32m----> 1\u001b[0m _summary\n",
      "\u001b[0;31mNameError\u001b[0m: name '_summary' is not defined"
     ]
    }
   ],
   "source": [
    "_summary\n"
   ]
  },
  {
   "cell_type": "code",
   "execution_count": 7,
   "metadata": {},
   "outputs": [
    {
     "name": "stdout",
     "output_type": "stream",
     "text": [
      "2025-01-28 23:51:20.835009\n"
     ]
    }
   ],
   "source": [
    "from datetime import datetime, timedelta\n",
    "\n",
    "print(datetime.now() - timedelta(days=7))"
   ]
  },
  {
   "cell_type": "code",
   "execution_count": 8,
   "metadata": {},
   "outputs": [
    {
     "name": "stdout",
     "output_type": "stream",
     "text": [
      "Collecting reportlab\n",
      "  Downloading reportlab-4.3.0-py3-none-any.whl.metadata (1.5 kB)\n",
      "Requirement already satisfied: pillow>=9.0.0 in /opt/anaconda3/lib/python3.12/site-packages (from reportlab) (10.3.0)\n",
      "Requirement already satisfied: chardet in /opt/anaconda3/lib/python3.12/site-packages (from reportlab) (4.0.0)\n",
      "Downloading reportlab-4.3.0-py3-none-any.whl (1.9 MB)\n",
      "\u001b[2K   \u001b[90m━━━━━━━━━━━━━━━━━━━━━━━━━━━━━━━━━━━━━━━━\u001b[0m \u001b[32m1.9/1.9 MB\u001b[0m \u001b[31m5.1 MB/s\u001b[0m eta \u001b[36m0:00:00\u001b[0m00:01\u001b[0m00:01\u001b[0mm\n",
      "\u001b[?25hInstalling collected packages: reportlab\n",
      "Successfully installed reportlab-4.3.0\n",
      "Note: you may need to restart the kernel to use updated packages.\n"
     ]
    }
   ],
   "source": [
    "%pip install reportlab\n",
    "\n"
   ]
  },
  {
   "cell_type": "code",
   "execution_count": null,
   "metadata": {},
   "outputs": [
    {
     "name": "stdout",
     "output_type": "stream",
     "text": [
      "Report saved as weekly_incident_report.pdf\n"
     ]
    }
   ],
   "source": [
    "from reportlab.lib.pagesizes import letter\n",
    "from reportlab.pdfgen import canvas\n",
    "from reportlab.lib import colors\n",
    "from reportlab.lib.styles import getSampleStyleSheet, ParagraphStyle\n",
    "from reportlab.platypus import SimpleDocTemplate, Paragraph, Spacer, Image\n",
    "\n",
    "def save_report_to_pdf(report_text, logo_path, filename=\"weekly_incident_report.pdf\"):\n",
    "    \"\"\"Generate a beautiful PDF with logo and improved design.\"\"\"\n",
    "    # Create a document template\n",
    "    document = SimpleDocTemplate(filename, pagesize=letter)\n",
    "    elements = []\n",
    "\n",
    "    # Add logo at the top of the document\n",
    "    logo = Image(logo_path, width=100, height=50)  # Adjust size as needed\n",
    "    elements.append(logo)\n",
    "    elements.append(Spacer(1, 12))  # Space between logo and title\n",
    "\n",
    "    # Add a title for the report\n",
    "    title_style = ParagraphStyle(name='Title', fontName='Helvetica-Bold', fontSize=18, alignment=1, textColor=colors.blue)\n",
    "    title = Paragraph(\"Weekly Incident Report\", style=title_style)\n",
    "    elements.append(title)\n",
    "    elements.append(Spacer(1, 12))\n",
    "\n",
    "    # Add a subtitle for the report\n",
    "    subtitle_style = ParagraphStyle(name='Subtitle', fontName='Helvetica', fontSize=12, alignment=1, textColor=colors.black)\n",
    "    subtitle = Paragraph(f\"Report generated on {datetime.now().strftime('%Y-%m-%d')}\", style=subtitle_style)\n",
    "    elements.append(subtitle)\n",
    "    elements.append(Spacer(1, 24))  # Space before the main content\n",
    "\n",
    "    # Add the summary report text\n",
    "    text_style = getSampleStyleSheet()['Normal']\n",
    "    report_paragraph = Paragraph(report_text, style=text_style)\n",
    "    elements.append(report_paragraph)\n",
    "    elements.append(Spacer(1, 12))\n",
    "\n",
    "    # Footer with additional information\n",
    "    footer_style = ParagraphStyle(name='Footer', fontName='Helvetica-Oblique', fontSize=8, alignment=2, textColor=colors.gray)\n",
    "    footer = Paragraph(\"This report is confidential and for internal use only.\", style=footer_style)\n",
    "    elements.append(footer)\n",
    "\n",
    "    # Build the document\n",
    "    document.build(elements)\n",
    "\n",
    "    print(f\"Report saved as {filename}\")\n",
    "\n",
    "# Usage\n",
    "logo_path = 'path_to_your_logo.png'  # Replace with the actual path to your logo image\n",
    "save_report_to_pdf(processed_summary, logo_path)\n"
   ]
  }
 ],
 "metadata": {
  "kernelspec": {
   "display_name": "base",
   "language": "python",
   "name": "python3"
  },
  "language_info": {
   "codemirror_mode": {
    "name": "ipython",
    "version": 3
   },
   "file_extension": ".py",
   "mimetype": "text/x-python",
   "name": "python",
   "nbconvert_exporter": "python",
   "pygments_lexer": "ipython3",
   "version": "3.12.4"
  }
 },
 "nbformat": 4,
 "nbformat_minor": 2
}
