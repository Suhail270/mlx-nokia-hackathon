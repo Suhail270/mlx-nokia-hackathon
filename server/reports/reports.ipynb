{
 "cells": [
  {
   "cell_type": "code",
   "execution_count": 2,
   "metadata": {},
   "outputs": [],
   "source": [
    "import sqlite3\n",
    "\n",
    "# Connect to the database\n",
    "conn = sqlite3.connect(\"../alerts.db\")\n",
    "cursor = conn.cursor()\n",
    "\n",
    "# Fetch incidents from the past 7 days\n",
    "query = \"\"\"\n",
    "SELECT type, severity, location, status\n",
    "FROM alerts\n",
    "WHERE timestamp >= DATE('now', '-7 days')\n",
    "ORDER BY timestamp DESC;\n",
    "\"\"\"\n",
    "\n",
    "cursor.execute(query)\n",
    "incidents = cursor.fetchall()  # Fetch all rows\n",
    "\n",
    "# Close the database connection\n",
    "conn.close()\n"
   ]
  },
  {
   "cell_type": "code",
   "execution_count": 3,
   "metadata": {},
   "outputs": [
    {
     "name": "stdout",
     "output_type": "stream",
     "text": [
      "[('fire', 'critical', 'Al Mushrif, Abu Dhabi', 'in progress'), ('assault', 'high', 'Al Raha Beach, Abu Dhabi', 'resolved'), ('assault', 'critical', 'Reem Island, Abu Dhabi', 'resolved'), ('fire', 'warning', 'Yas Mall, Abu Dhabi', 'in progress'), ('assault', 'critical', 'Corniche Road, Abu Dhabi', 'unresolved'), ('fire', 'warning', 'Khalidiya Mall, Abu Dhabi', 'in progress'), ('fire', 'critical', 'Hamdan Street, Abu Dhabi', 'resolved')]\n"
     ]
    }
   ],
   "source": [
    "print(incidents)"
   ]
  },
  {
   "cell_type": "code",
   "execution_count": 4,
   "metadata": {},
   "outputs": [],
   "source": [
    "# Format incidents into a readable string\n",
    "incident_text = \"\\n\".join(\n",
    "    f\"Date: Type: {row[0]}, Severity: {row[1]}, Location: {row[2]}, Status: {row[3]}\"\n",
    "    for row in incidents\n",
    ")\n",
    "\n",
    "# Create the prompt for Gen AI\n",
    "prompt = f\"\"\"\n",
    "You are an AI assistant generating a weekly incident report. Be straight forward and maintain a structure that can be placed into a pdf file. Do not talk to me. Only give me the text that would be put in the PDF.\n",
    "Analyze the following incident data and summarize key insights:\n",
    "\n",
    "{incident_text}\n",
    "\n",
    "Generate a structured report with:\n",
    "- Total incidents\n",
    "- Most common incident type\n",
    "- Severity distribution\n",
    "- Locations with the highest incidents\n",
    "- Open vs closed case summary\n",
    "- Key observations & recommendations\n",
    "\"\"\"\n"
   ]
  },
  {
   "cell_type": "code",
   "execution_count": 5,
   "metadata": {},
   "outputs": [
    {
     "data": {
      "text/plain": [
       "'Date: Type: fire, Severity: critical, Location: Al Mushrif, Abu Dhabi, Status: in progress\\nDate: Type: assault, Severity: high, Location: Al Raha Beach, Abu Dhabi, Status: resolved\\nDate: Type: assault, Severity: critical, Location: Reem Island, Abu Dhabi, Status: resolved\\nDate: Type: fire, Severity: warning, Location: Yas Mall, Abu Dhabi, Status: in progress\\nDate: Type: assault, Severity: critical, Location: Corniche Road, Abu Dhabi, Status: unresolved\\nDate: Type: fire, Severity: warning, Location: Khalidiya Mall, Abu Dhabi, Status: in progress\\nDate: Type: fire, Severity: critical, Location: Hamdan Street, Abu Dhabi, Status: resolved'"
      ]
     },
     "execution_count": 5,
     "metadata": {},
     "output_type": "execute_result"
    }
   ],
   "source": [
    "incident_text"
   ]
  },
  {
   "cell_type": "code",
   "execution_count": 7,
   "metadata": {},
   "outputs": [],
   "source": [
    "from http.client import HTTPException\n",
    "import os\n",
    "from openai import OpenAI\n",
    "from dotenv import load_dotenv\n",
    "import re\n",
    "\n",
    "load_dotenv()\n",
    "NVIDIA_API_KEY = os.getenv(\"NVIDIA_API_KEY\")\n",
    "\n",
    "LLM_MODEL = \"meta/llama-3.1-70b-instruct\"\n",
    "SUMMARIZER_MODEL = \"deepseek-ai/deepseek-r1\"\n",
    "\n",
    "def extract_post_think_content(text: str) -> str:\n",
    "    \"\"\"Extract content after </think> tag.\"\"\"\n",
    "    match = re.search(r'</think>\\s*(.*?)$', text, re.DOTALL)\n",
    "    if match:\n",
    "        return match.group(1).strip()\n",
    "    return text\n",
    "\n",
    "\n",
    "embedding_client = OpenAI(api_key=NVIDIA_API_KEY, base_url=\"https://integrate.api.nvidia.com/v1\")\n",
    "llm_client = OpenAI(api_key=NVIDIA_API_KEY, base_url=\"https://integrate.api.nvidia.com/v1\")\n",
    "try:\n",
    "        messages = [\n",
    "            {\"role\": \"system\", \"content\": \"You are an AI assistant generating a weekly incident report.\"},\n",
    "            {\"role\": \"user\", \"content\": prompt}\n",
    "        ]\n",
    "        response = llm_client.chat.completions.create(\n",
    "            model=SUMMARIZER_MODEL,\n",
    "            messages=messages,\n",
    "            temperature=0.6,\n",
    "            top_p=0.7,\n",
    "            max_tokens=4096,\n",
    "            stream=False\n",
    "        )\n",
    "        summary = response.choices[0].message.content.strip()\n",
    "        processed_summary = extract_post_think_content(summary)\n",
    "except Exception as e:\n",
    "    # logger.error(f\"Error generating summary: {e}\")\n",
    "    print(\"error\")\n",
    "    # raise HTTPException(status_code=500, detail=\"Error generating summary.\")"
   ]
  },
  {
   "cell_type": "code",
   "execution_count": 37,
   "metadata": {},
   "outputs": [
    {
     "data": {
      "text/plain": [
       "'<think>\\nOkay, let\\'s start by looking at the user\\'s query. They want a weekly incident report based on the provided data. The instructions are to be straightforward and maintain a structure suitable for a PDF. No conversational text, just the report content.\\n\\nFirst, I need to parse the incident data. There are seven incidents listed with dates, types, severities, locations, and statuses. Let me count each category.\\n\\nTotal incidents: There are seven entries, so total is 7.\\n\\nMost common incident type: Fires and assaults each have entries. Let\\'s count. Fire occurs on 2023-10-02, 2023-10-04, 2023-10-06, and 2023-10-07. Wait, no. Wait, looking at the data again:\\n\\n1. Fire (critical, Al Mushrif)\\n2. Assault (high, Al Raha Beach)\\n3. Assault (critical, Reem Island)\\n4. Fire (warning, Yas Mall)\\n5. Assault (critical, Corniche Road)\\n6. Fire (warning, Khalidiya Mall)\\n7. Fire (critical, Hamdan Street)\\n\\nSo Fire occurs 4 times (incidents 1,4,6,7) and Assault 3 times (2,3,5). So Fire is the most common.\\n\\nSeverity distribution: Need to count critical, high, warning. Let\\'s see:\\n\\n- Critical: incidents 1,3,5,7 (4 times)\\n- High: incident 2\\n- Warning: incidents 4,6 (2 times)\\n\\nSo Critical: 4, High:1, Warning:2.\\n\\nLocations with highest incidents: Check locations. Each incident is in a different location except maybe? Let\\'s list them:\\n\\nAl Mushrif, Al Raha Beach, Reem Island, Yas Mall, Corniche Road, Khalidiya Mall, Hamdan Street. All unique except none. Wait, no, all locations are different. So each location has 1 incident. So the highest is 1 per location. But maybe the user expects to list the locations with incidents, but since all are unique, perhaps note that all incidents occurred in distinct areas.\\n\\nOpen vs closed cases: Statuses are in progress, resolved, unresolved. Let\\'s check each incident:\\n\\n1. in progress\\n2. resolved\\n3. resolved\\n4. in progress\\n5. unresolved\\n6. in progress\\n7. resolved\\n\\nSo resolved: 3 (incidents 2,3,7)\\nunresolved: 1 (incident5)\\nin progress: 3 (1,4,6)\\n\\nWait, unresolved is a separate status. So open cases would be in progress + unresolved. So total open: 3 in progress + 1 unresolved = 4. Closed: resolved (3). But the user says \"Open vs closed case summary\". So need to clarify. The statuses are: in progress, resolved, unresolved. So unresolved is a separate category. So Open cases would be in progress and unresolved. Let\\'s count:\\n\\nResolved: 3\\nUnresolved: 1 (Corniche Road assault)\\nIn progress: 3 (fires at Al Mushrif, Yas Mall, Khalidiya Mall)\\n\\nSo Open cases: 4 (3 in progress + 1 unresolved), Closed: 3 resolved.\\n\\nKey observations and recommendations: Need to highlight the prevalence of fires and critical incidents. Also, all locations are different, so maybe spread out. Open cases are mostly fires. Recommendations could include fire safety checks, patrols in areas with unresolved cases, etc.\\n\\nNow structuring the report as per the user\\'s sections:\\n\\n- Total incidents: 7\\n- Most common: Fire (4)\\n- Severity: Critical (4), Warning (2), High (1)\\n- Locations: All unique, so list them or note that they are spread out. Maybe say \"Incidents spread across multiple locations with no repeats.\"\\n- Open vs closed: Open 4 (3 in progress, 1 unresolved), Closed 3\\n- Observations: High critical incidents, fires predominant, multiple open fire cases. Recommendations: Fire safety audits, increase patrols in areas with unresolved cases, review assault response protocols.\\n\\nNeed to make sure the structure is clear and fits into a PDF. Use bullet points, sections with headings. Avoid markdown, just plain text with indentation or dashes. The user example uses headings with \"-\" and colons. So follow that format.\\n</think>\\n\\n**Weekly Incident Report**  \\n\\n---  \\n**Total Incidents**: 7  \\n\\n---  \\n**Most Common Incident Type**:  \\n- **Fire**: 4 incidents  \\n- **Assault**: 3 incidents  \\n\\n---  \\n**Severity Distribution**:  \\n- **Critical**: 4 incidents  \\n- **High**: 1 incident  \\n- **Warning**: 2 incidents  \\n\\n---  \\n**Locations with Highest Incidents**:  \\n- All incidents occurred in distinct areas: Al Mushrif, Al Raha Beach, Reem Island, Yas Mall, Corniche Road, Khalidiya Mall, Hamdan Street.  \\n\\n---  \\n**Open vs Closed Case Summary**:  \\n- **Open Cases**: 4 (3 fires \"in progress,\" 1 assault \"unresolved\")  \\n- **Closed Cases**: 3 (2 assaults, 1 fire marked \"resolved\")  \\n\\n---  \\n**Key Observations**:  \\n1. **Critical incidents dominated** (57% of total), including fires and assaults.  \\n2. **Fires were most frequent** (57% of total), with 3 still active (\"in progress\").  \\n3. **Assaults had mixed resolution**: 2 resolved, 1 critical case (Corniche Road) remains unresolved.  \\n4. Incidents occurred across diverse locations, indicating no single hotspot.  \\n\\n**Recommendations**:  \\n1. Prioritize fire containment efforts at Al Mushrif, Yas Mall, and Khalidiya Mall.  \\n2. Deploy additional resources to resolve the unresolved critical assault on Corniche Road.  \\n3. Conduct fire safety audits at commercial hubs (Yas Mall, Khalidiya Mall).  \\n4. Review assault response protocols to reduce unresolved cases.  \\n5. Increase patrols in areas with recurring incident types (e.g., commercial zones for fires).  \\n\\n---  \\n*End of Report*'"
      ]
     },
     "execution_count": 37,
     "metadata": {},
     "output_type": "execute_result"
    }
   ],
   "source": [
    "_summary\n"
   ]
  },
  {
   "cell_type": "code",
   "execution_count": 38,
   "metadata": {},
   "outputs": [
    {
     "name": "stdout",
     "output_type": "stream",
     "text": [
      "2025-01-28 11:43:41.167508\n"
     ]
    }
   ],
   "source": [
    "from datetime import datetime, timedelta\n",
    "\n",
    "print(datetime.now() - timedelta(days=7))"
   ]
  },
  {
   "cell_type": "code",
   "execution_count": 39,
   "metadata": {},
   "outputs": [
    {
     "name": "stdout",
     "output_type": "stream",
     "text": [
      "Requirement already satisfied: reportlab in c:\\users\\mujta\\anaconda3\\lib\\site-packages (4.3.0)\n",
      "Requirement already satisfied: pillow>=9.0.0 in c:\\users\\mujta\\anaconda3\\lib\\site-packages (from reportlab) (10.4.0)\n",
      "Requirement already satisfied: chardet in c:\\users\\mujta\\anaconda3\\lib\\site-packages (from reportlab) (4.0.0)\n",
      "Note: you may need to restart the kernel to use updated packages.\n"
     ]
    }
   ],
   "source": [
    "%pip install reportlab\n",
    "\n"
   ]
  },
  {
   "cell_type": "code",
   "execution_count": null,
   "metadata": {},
   "outputs": [
    {
     "name": "stdout",
     "output_type": "stream",
     "text": [
      "Report saved as weekly_incident_report.pdf\n"
     ]
    }
   ],
   "source": [
    "from reportlab.lib.pagesizes import letter\n",
    "from reportlab.pdfgen import canvas\n",
    "from reportlab.lib import colors\n",
    "\n",
    "def save_report_to_pdf(report_text, filename=\"weekly_incident_report.pdf\"):\n",
    "    \"\"\"Generate a PDF file with a bordered report.\"\"\"\n",
    "    c = canvas.Canvas(filename, pagesize=letter)\n",
    "    width, height = letter\n",
    "    c.setFont(\"Helvetica\", 12)\n",
    "\n",
    "    margin_x = 40\n",
    "    margin_y = 50\n",
    "    text_width = width - 2 * margin_x\n",
    "    text_height = height - 2 * margin_y\n",
    "\n",
    "    c.setStrokeColor(colors.black)\n",
    "    c.setLineWidth(2)  \n",
    "    c.rect(margin_x, margin_y, text_width, text_height)  \n",
    "\n",
    "    # Write text inside the border\n",
    "    y_position = height - margin_y - 20  # Start position for text\n",
    "    line_height = 14  # Spacing between lines\n",
    "\n",
    "    for line in report_text.split(\"\\n\"):\n",
    "        c.drawString(margin_x + 10, y_position, line)  # Indent text inside border\n",
    "        y_position -= line_height\n",
    "        if y_position < margin_y + 20:  # Create new page if needed\n",
    "            c.showPage()\n",
    "            c.setFont(\"Helvetica\", 12)\n",
    "            y_position = height - margin_y - 20\n",
    "            c.setStrokeColor(colors.black)\n",
    "            c.setLineWidth(2)\n",
    "            c.rect(margin_x, margin_y, text_width, text_height)\n",
    "\n",
    "    c.save()\n",
    "    print(f\"Report saved as {filename}\")\n",
    "\n",
    "save_report_to_pdf(processed_summary)\n"
   ]
  }
 ],
 "metadata": {
  "kernelspec": {
   "display_name": "base",
   "language": "python",
   "name": "python3"
  },
  "language_info": {
   "codemirror_mode": {
    "name": "ipython",
    "version": 3
   },
   "file_extension": ".py",
   "mimetype": "text/x-python",
   "name": "python",
   "nbconvert_exporter": "python",
   "pygments_lexer": "ipython3",
   "version": "3.12.7"
  }
 },
 "nbformat": 4,
 "nbformat_minor": 2
}
