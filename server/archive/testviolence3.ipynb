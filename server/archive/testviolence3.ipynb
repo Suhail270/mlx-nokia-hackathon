{
 "cells": [
  {
   "cell_type": "code",
   "execution_count": 11,
   "metadata": {},
   "outputs": [
    {
     "name": "stderr",
     "output_type": "stream",
     "text": [
      "Device set to use cpu\n"
     ]
    }
   ],
   "source": [
    "# Use a pipeline as a high-level helper\n",
    "from transformers import pipeline\n",
    "\n",
    "pipe = pipeline(\"video-classification\", model=\"zeshi1990/videomae-base-finetuned-fightNoFight_dataset\")"
   ]
  },
  {
   "cell_type": "code",
   "execution_count": 12,
   "metadata": {},
   "outputs": [
    {
     "name": "stdout",
     "output_type": "stream",
     "text": [
      "[{'score': 0.6505520939826965, 'label': 'fight'}, {'score': 0.34944790601730347, 'label': 'noFight'}]\n"
     ]
    }
   ],
   "source": [
    "violentvid=\"videos/assault.mp4\"\n",
    "result = pipe(violentvid)\n",
    "print(result)"
   ]
  },
  {
   "cell_type": "code",
   "execution_count": 49,
   "metadata": {},
   "outputs": [
    {
     "name": "stdout",
     "output_type": "stream",
     "text": [
      "[{'score': 0.6930952668190002, 'label': 'fight'}, {'score': 0.30690473318099976, 'label': 'noFight'}]\n"
     ]
    }
   ],
   "source": [
    "violentvid2=\"videos/assault2.mp4\"\n",
    "result = pipe(violentvid2)\n",
    "print(result)"
   ]
  },
  {
   "cell_type": "code",
   "execution_count": null,
   "metadata": {},
   "outputs": [],
   "source": []
  },
  {
   "cell_type": "code",
   "execution_count": 14,
   "metadata": {},
   "outputs": [
    {
     "name": "stdout",
     "output_type": "stream",
     "text": [
      "[{'score': 0.5147644877433777, 'label': 'noFight'}, {'score': 0.4852355420589447, 'label': 'fight'}]\n"
     ]
    }
   ],
   "source": [
    "violentvid3=\"videos/assault3.mp4\"\n",
    "result = pipe(violentvid3)\n",
    "print(result)"
   ]
  },
  {
   "cell_type": "code",
   "execution_count": 16,
   "metadata": {},
   "outputs": [
    {
     "name": "stdout",
     "output_type": "stream",
     "text": [
      "[{'score': 0.6709930300712585, 'label': 'noFight'}, {'score': 0.32900694012641907, 'label': 'fight'}]\n"
     ]
    }
   ],
   "source": [
    "accident_vid = r\"C:\\Users\\mujta\\OneDrive\\Desktop\\crime vids\\Anomaly-Videos-Part-3\\Anomaly-Videos-Part-3\\RoadAccidents\\RoadAccidents001_x264.mp4\"\n",
    "result = pipe(accident_vid)\n",
    "print(result)"
   ]
  },
  {
   "cell_type": "code",
   "execution_count": 42,
   "metadata": {},
   "outputs": [
    {
     "name": "stdout",
     "output_type": "stream",
     "text": [
      "C:\\Users\\mujta\\OneDrive\\Desktop\\crime vids\\Anomaly-Videos-Part-1\\Anomaly-Videos-Part-1\\Assault\\Assault001_x264.mp4\n",
      "C:\\Users\\mujta\\OneDrive\\Desktop\\crime vids\\Anomaly-Videos-Part-1\\Anomaly-Videos-Part-1\\Assault\\Assault002_x264.mp4\n",
      "C:\\Users\\mujta\\OneDrive\\Desktop\\crime vids\\Anomaly-Videos-Part-1\\Anomaly-Videos-Part-1\\Assault\\Assault003_x264.mp4\n",
      "C:\\Users\\mujta\\OneDrive\\Desktop\\crime vids\\Anomaly-Videos-Part-1\\Anomaly-Videos-Part-1\\Assault\\Assault004_x264.mp4\n",
      "C:\\Users\\mujta\\OneDrive\\Desktop\\crime vids\\Anomaly-Videos-Part-1\\Anomaly-Videos-Part-1\\Assault\\Assault005_x264.mp4\n",
      "C:\\Users\\mujta\\OneDrive\\Desktop\\crime vids\\Anomaly-Videos-Part-1\\Anomaly-Videos-Part-1\\Assault\\Assault006_x264.mp4\n",
      "C:\\Users\\mujta\\OneDrive\\Desktop\\crime vids\\Anomaly-Videos-Part-1\\Anomaly-Videos-Part-1\\Assault\\Assault007_x264.mp4\n",
      "C:\\Users\\mujta\\OneDrive\\Desktop\\crime vids\\Anomaly-Videos-Part-1\\Anomaly-Videos-Part-1\\Assault\\Assault008_x264.mp4\n",
      "C:\\Users\\mujta\\OneDrive\\Desktop\\crime vids\\Anomaly-Videos-Part-1\\Anomaly-Videos-Part-1\\Assault\\Assault009_x264.mp4\n",
      "C:\\Users\\mujta\\OneDrive\\Desktop\\crime vids\\Anomaly-Videos-Part-1\\Anomaly-Videos-Part-1\\Assault\\Assault010_x264.mp4\n",
      "C:\\Users\\mujta\\OneDrive\\Desktop\\crime vids\\Anomaly-Videos-Part-1\\Anomaly-Videos-Part-1\\Assault\\Assault011_x264.mp4\n",
      "C:\\Users\\mujta\\OneDrive\\Desktop\\crime vids\\Anomaly-Videos-Part-1\\Anomaly-Videos-Part-1\\Assault\\Assault012_x264.mp4\n",
      "C:\\Users\\mujta\\OneDrive\\Desktop\\crime vids\\Anomaly-Videos-Part-1\\Anomaly-Videos-Part-1\\Assault\\Assault013_x264.mp4\n",
      "C:\\Users\\mujta\\OneDrive\\Desktop\\crime vids\\Anomaly-Videos-Part-1\\Anomaly-Videos-Part-1\\Assault\\Assault014_x264.mp4\n",
      "C:\\Users\\mujta\\OneDrive\\Desktop\\crime vids\\Anomaly-Videos-Part-1\\Anomaly-Videos-Part-1\\Assault\\Assault015_x264.mp4\n",
      "C:\\Users\\mujta\\OneDrive\\Desktop\\crime vids\\Anomaly-Videos-Part-1\\Anomaly-Videos-Part-1\\Assault\\Assault016_x264.mp4\n",
      "C:\\Users\\mujta\\OneDrive\\Desktop\\crime vids\\Anomaly-Videos-Part-1\\Anomaly-Videos-Part-1\\Assault\\Assault017_x264.mp4\n",
      "C:\\Users\\mujta\\OneDrive\\Desktop\\crime vids\\Anomaly-Videos-Part-1\\Anomaly-Videos-Part-1\\Assault\\Assault018_x264.mp4\n",
      "C:\\Users\\mujta\\OneDrive\\Desktop\\crime vids\\Anomaly-Videos-Part-1\\Anomaly-Videos-Part-1\\Assault\\Assault019_x264.mp4\n",
      "C:\\Users\\mujta\\OneDrive\\Desktop\\crime vids\\Anomaly-Videos-Part-1\\Anomaly-Videos-Part-1\\Assault\\Assault020_x264.mp4\n",
      "C:\\Users\\mujta\\OneDrive\\Desktop\\crime vids\\Anomaly-Videos-Part-1\\Anomaly-Videos-Part-1\\Assault\\Assault022_x264.mp4\n",
      "C:\\Users\\mujta\\OneDrive\\Desktop\\crime vids\\Anomaly-Videos-Part-1\\Anomaly-Videos-Part-1\\Assault\\Assault023_x264.mp4\n",
      "C:\\Users\\mujta\\OneDrive\\Desktop\\crime vids\\Anomaly-Videos-Part-1\\Anomaly-Videos-Part-1\\Assault\\Assault024_x264.mp4\n",
      "C:\\Users\\mujta\\OneDrive\\Desktop\\crime vids\\Anomaly-Videos-Part-1\\Anomaly-Videos-Part-1\\Assault\\Assault025_x264.mp4\n",
      "C:\\Users\\mujta\\OneDrive\\Desktop\\crime vids\\Anomaly-Videos-Part-1\\Anomaly-Videos-Part-1\\Assault\\Assault026_x264.mp4\n",
      "C:\\Users\\mujta\\OneDrive\\Desktop\\crime vids\\Anomaly-Videos-Part-1\\Anomaly-Videos-Part-1\\Assault\\Assault027_x264.mp4\n",
      "C:\\Users\\mujta\\OneDrive\\Desktop\\crime vids\\Anomaly-Videos-Part-1\\Anomaly-Videos-Part-1\\Assault\\Assault028_x264.mp4\n",
      "C:\\Users\\mujta\\OneDrive\\Desktop\\crime vids\\Anomaly-Videos-Part-1\\Anomaly-Videos-Part-1\\Assault\\Assault029_x264.mp4\n",
      "C:\\Users\\mujta\\OneDrive\\Desktop\\crime vids\\Anomaly-Videos-Part-1\\Anomaly-Videos-Part-1\\Assault\\Assault030_x264.mp4\n",
      "C:\\Users\\mujta\\OneDrive\\Desktop\\crime vids\\Anomaly-Videos-Part-1\\Anomaly-Videos-Part-1\\Assault\\Assault031_x264.mp4\n",
      "C:\\Users\\mujta\\OneDrive\\Desktop\\crime vids\\Anomaly-Videos-Part-1\\Anomaly-Videos-Part-1\\Assault\\Assault032_x264.mp4\n",
      "C:\\Users\\mujta\\OneDrive\\Desktop\\crime vids\\Anomaly-Videos-Part-1\\Anomaly-Videos-Part-1\\Assault\\Assault033_x264.mp4\n",
      "C:\\Users\\mujta\\OneDrive\\Desktop\\crime vids\\Anomaly-Videos-Part-1\\Anomaly-Videos-Part-1\\Assault\\Assault034_x264.mp4\n",
      "C:\\Users\\mujta\\OneDrive\\Desktop\\crime vids\\Anomaly-Videos-Part-1\\Anomaly-Videos-Part-1\\Assault\\Assault035_x264.mp4\n",
      "C:\\Users\\mujta\\OneDrive\\Desktop\\crime vids\\Anomaly-Videos-Part-1\\Anomaly-Videos-Part-1\\Assault\\Assault036_x264.mp4\n",
      "C:\\Users\\mujta\\OneDrive\\Desktop\\crime vids\\Anomaly-Videos-Part-1\\Anomaly-Videos-Part-1\\Assault\\Assault037_x264.mp4\n",
      "C:\\Users\\mujta\\OneDrive\\Desktop\\crime vids\\Anomaly-Videos-Part-1\\Anomaly-Videos-Part-1\\Assault\\Assault038_x264.mp4\n",
      "C:\\Users\\mujta\\OneDrive\\Desktop\\crime vids\\Anomaly-Videos-Part-1\\Anomaly-Videos-Part-1\\Assault\\Assault039_x264.mp4\n",
      "C:\\Users\\mujta\\OneDrive\\Desktop\\crime vids\\Anomaly-Videos-Part-1\\Anomaly-Videos-Part-1\\Assault\\Assault040_x264.mp4\n",
      "C:\\Users\\mujta\\OneDrive\\Desktop\\crime vids\\Anomaly-Videos-Part-1\\Anomaly-Videos-Part-1\\Assault\\Assault041_x264.mp4\n",
      "C:\\Users\\mujta\\OneDrive\\Desktop\\crime vids\\Anomaly-Videos-Part-1\\Anomaly-Videos-Part-1\\Assault\\Assault042_x264.mp4\n",
      "C:\\Users\\mujta\\OneDrive\\Desktop\\crime vids\\Anomaly-Videos-Part-1\\Anomaly-Videos-Part-1\\Assault\\Assault044_x264.mp4\n",
      "C:\\Users\\mujta\\OneDrive\\Desktop\\crime vids\\Anomaly-Videos-Part-1\\Anomaly-Videos-Part-1\\Assault\\Assault045_x264.mp4\n",
      "C:\\Users\\mujta\\OneDrive\\Desktop\\crime vids\\Anomaly-Videos-Part-1\\Anomaly-Videos-Part-1\\Assault\\Assault046_x264.mp4\n",
      "C:\\Users\\mujta\\OneDrive\\Desktop\\crime vids\\Anomaly-Videos-Part-1\\Anomaly-Videos-Part-1\\Assault\\Assault047_x264.mp4\n",
      "C:\\Users\\mujta\\OneDrive\\Desktop\\crime vids\\Anomaly-Videos-Part-1\\Anomaly-Videos-Part-1\\Assault\\Assault048_x264.mp4\n",
      "C:\\Users\\mujta\\OneDrive\\Desktop\\crime vids\\Anomaly-Videos-Part-1\\Anomaly-Videos-Part-1\\Assault\\Assault049_x264.mp4\n",
      "C:\\Users\\mujta\\OneDrive\\Desktop\\crime vids\\Anomaly-Videos-Part-1\\Anomaly-Videos-Part-1\\Assault\\Assault050_x264.mp4\n",
      "C:\\Users\\mujta\\OneDrive\\Desktop\\crime vids\\Anomaly-Videos-Part-1\\Anomaly-Videos-Part-1\\Assault\\Assault051_x264.mp4\n",
      "C:\\Users\\mujta\\OneDrive\\Desktop\\crime vids\\Anomaly-Videos-Part-1\\Anomaly-Videos-Part-1\\Assault\\Assault052_x264.mp4\n"
     ]
    }
   ],
   "source": [
    "import os\n",
    "import glob\n",
    "\n",
    "# Set the folder path\n",
    "folder_path = r\"C:\\Users\\mujta\\OneDrive\\Desktop\\crime vids\\Anomaly-Videos-Part-1\\Anomaly-Videos-Part-1\\Assault\"\n",
    "\n",
    "# Define common video file extensions\n",
    "video_extensions = [\"*.mp4\", \"*.avi\", \"*.mov\", \"*.mkv\", \"*.flv\", \"*.wmv\"]\n",
    "\n",
    "# Get all video files in the folder\n",
    "video_files = []\n",
    "for ext in video_extensions:\n",
    "    video_files.extend(glob.glob(os.path.join(folder_path, ext)))\n",
    "\n",
    "results =[]\n",
    "# Print the video file names\n",
    "for video in video_files:\n",
    "\n",
    "    result = pipe(video)\n",
    "    print(video)\n",
    "    results.append(result)\n"
   ]
  },
  {
   "cell_type": "code",
   "execution_count": 31,
   "metadata": {},
   "outputs": [
    {
     "data": {
      "text/plain": [
       "39"
      ]
     },
     "execution_count": 31,
     "metadata": {},
     "output_type": "execute_result"
    }
   ],
   "source": [
    "results.count(\"fight\")"
   ]
  },
  {
   "cell_type": "code",
   "execution_count": 41,
   "metadata": {},
   "outputs": [
    {
     "data": {
      "text/plain": [
       "[[0.5989725589752197, 'fight'],\n",
       " [0.7257850766181946, 'fight'],\n",
       " [0.766322135925293, 'noFight'],\n",
       " [0.50157630443573, 'fight'],\n",
       " [0.7321117520332336, 'fight'],\n",
       " [0.5904211401939392, 'fight'],\n",
       " [0.680571436882019, 'noFight'],\n",
       " [0.9000884890556335, 'noFight'],\n",
       " [0.6490101218223572, 'noFight'],\n",
       " [0.7967031598091125, 'fight'],\n",
       " [0.678740382194519, 'fight'],\n",
       " [0.9239304065704346, 'noFight'],\n",
       " [0.6758286356925964, 'fight'],\n",
       " [0.6575590372085571, 'noFight'],\n",
       " [0.8082389831542969, 'fight'],\n",
       " [0.7317453622817993, 'noFight'],\n",
       " [0.537538468837738, 'fight'],\n",
       " [0.6592268347740173, 'fight'],\n",
       " [0.6167029142379761, 'fight'],\n",
       " [0.7656220197677612, 'fight'],\n",
       " [0.7154536843299866, 'fight'],\n",
       " [0.5978610515594482, 'fight'],\n",
       " [0.6505520939826965, 'fight'],\n",
       " [0.7416071891784668, 'fight'],\n",
       " [0.7422040700912476, 'fight'],\n",
       " [0.5147644877433777, 'noFight'],\n",
       " [0.7429341673851013, 'fight'],\n",
       " [0.6521074175834656, 'fight'],\n",
       " [0.749508798122406, 'fight'],\n",
       " [0.6930952668190002, 'fight'],\n",
       " [0.7742663621902466, 'fight'],\n",
       " [0.7910369038581848, 'noFight'],\n",
       " [0.6262848973274231, 'fight'],\n",
       " [0.5012960433959961, 'fight'],\n",
       " [0.7481705546379089, 'fight'],\n",
       " [0.7625942230224609, 'fight'],\n",
       " [0.7154152989387512, 'fight'],\n",
       " [0.7549804449081421, 'noFight'],\n",
       " [0.7929181456565857, 'fight'],\n",
       " [0.7175076603889465, 'fight'],\n",
       " [0.6959844827651978, 'fight'],\n",
       " [0.7441708445549011, 'fight'],\n",
       " [0.6948911547660828, 'fight'],\n",
       " [0.6416789293289185, 'fight'],\n",
       " [0.6479511857032776, 'fight'],\n",
       " [0.6719846725463867, 'noFight'],\n",
       " [0.6506117582321167, 'fight'],\n",
       " [0.6998658180236816, 'fight'],\n",
       " [0.7080172300338745, 'fight'],\n",
       " [0.552688717842102, 'fight']]"
      ]
     },
     "execution_count": 41,
     "metadata": {},
     "output_type": "execute_result"
    }
   ],
   "source": [
    "results"
   ]
  }
 ],
 "metadata": {
  "kernelspec": {
   "display_name": "base",
   "language": "python",
   "name": "python3"
  },
  "language_info": {
   "codemirror_mode": {
    "name": "ipython",
    "version": 3
   },
   "file_extension": ".py",
   "mimetype": "text/x-python",
   "name": "python",
   "nbconvert_exporter": "python",
   "pygments_lexer": "ipython3",
   "version": "3.12.7"
  }
 },
 "nbformat": 4,
 "nbformat_minor": 2
}
