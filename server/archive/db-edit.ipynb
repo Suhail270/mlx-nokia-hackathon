{
 "cells": [
  {
   "cell_type": "code",
   "execution_count": 1,
   "metadata": {},
   "outputs": [
    {
     "name": "stdout",
     "output_type": "stream",
     "text": [
      "Column 'responder_type' already exists.\n"
     ]
    }
   ],
   "source": [
    "import sqlite3\n",
    "\n",
    "# Path to the SQLite database\n",
    "db_path = \"alerts.db\"\n",
    "\n",
    "# Connect to the SQLite database\n",
    "conn = sqlite3.connect(db_path)\n",
    "cursor = conn.cursor()\n",
    "\n",
    "# Add new column \"geo_info\" if it does not exist\n",
    "cursor.execute(\"PRAGMA table_info(alerts);\")\n",
    "existing_columns = [col[1] for col in cursor.fetchall()]\n",
    "\n",
    "if \"status\" not in existing_columns:\n",
    "    cursor.execute(\"ALTER TABLE alerts ADD COLUMN status STR;\")\n",
    "    conn.commit()\n",
    "    print(\"Column 'responder_type' added successfully.\")\n",
    "else:\n",
    "    print(\"Column 'responder_type' already exists.\")\n",
    "\n",
    "# Close connection\n",
    "conn.close()\n"
   ]
  },
  {
   "cell_type": "code",
   "execution_count": 26,
   "metadata": {},
   "outputs": [],
   "source": [
    "def update_alert(alert_id, column, new_value):\n",
    "    \"\"\"Updates a specific column in the alerts table for a given id.\"\"\"\n",
    "    conn = sqlite3.connect(db_path)\n",
    "    cursor = conn.cursor()\n",
    "    \n",
    "    # Ensure column name is valid\n",
    "    valid_columns = [\"type\", \"severity\", \"location\", \"latitude\", \"longitude\", \"timestamp\", \"description\", \"image\", \"video_path\", \"geo_info\", \"responder_type\", \"response_time\", \"resolution_time\", \"status\"]\n",
    "    if column not in valid_columns:\n",
    "        print(f\"Error: '{column}' is not a valid column name.\")\n",
    "        return\n",
    "    \n",
    "    # Create query and execute update\n",
    "    query = f\"UPDATE alerts SET {column} = ? WHERE id = ?\"\n",
    "    cursor.execute(query, (new_value, alert_id))\n",
    "    \n",
    "    conn.commit()\n",
    "    conn.close()\n",
    "    print(f\"Updated '{column}' of alert ID {alert_id} to '{new_value}'.\")"
   ]
  },
  {
   "cell_type": "code",
   "execution_count": 27,
   "metadata": {},
   "outputs": [
    {
     "name": "stdout",
     "output_type": "stream",
     "text": [
      "Updated 'responder_type' of alert ID 1 to 'firefighter'.\n",
      "Updated 'response_time' of alert ID 1 to '22'.\n",
      "Updated 'resolution_time' of alert ID 1 to '42'.\n",
      "Updated 'status' of alert ID 1 to 'resolved'.\n"
     ]
    }
   ],
   "source": [
    "import random\n",
    "\n",
    "response_time = random.randint(1, 50)\n",
    "resolution_time = response_time + 20\n",
    "\n",
    "update_alert(\"1\", \"responder_type\", \"firefighter\")\n",
    "update_alert(\"1\", \"response_time\", response_time)\n",
    "update_alert(\"1\", \"resolution_time\", resolution_time)\n",
    "update_alert(\"1\", \"status\", \"resolved\")"
   ]
  },
  {
   "cell_type": "code",
   "execution_count": 28,
   "metadata": {},
   "outputs": [
    {
     "name": "stdout",
     "output_type": "stream",
     "text": [
      "Updated 'responder_type' of alert ID 2 to 'firefighter'.\n",
      "Updated 'response_time' of alert ID 2 to '44'.\n",
      "Updated 'resolution_time' of alert ID 2 to '0'.\n",
      "Updated 'status' of alert ID 2 to 'in progress'.\n"
     ]
    }
   ],
   "source": [
    "import random\n",
    "\n",
    "response_time = random.randint(1, 50)\n",
    "resolution_time = response_time + 20\n",
    "\n",
    "update_alert(\"2\", \"responder_type\", \"firefighter\")\n",
    "update_alert(\"2\", \"response_time\", response_time)\n",
    "update_alert(\"2\", \"resolution_time\", 0)\n",
    "update_alert(\"2\", \"status\", \"in progress\")"
   ]
  },
  {
   "cell_type": "code",
   "execution_count": 29,
   "metadata": {},
   "outputs": [
    {
     "name": "stdout",
     "output_type": "stream",
     "text": [
      "Updated 'responder_type' of alert ID 3 to 'police'.\n",
      "Updated 'response_time' of alert ID 3 to '0'.\n",
      "Updated 'resolution_time' of alert ID 3 to '0'.\n",
      "Updated 'status' of alert ID 3 to 'unresolved'.\n"
     ]
    }
   ],
   "source": [
    "import random\n",
    "\n",
    "response_time = random.randint(1, 50)\n",
    "resolution_time = response_time + 20\n",
    "\n",
    "update_alert(\"3\", \"responder_type\", \"police\")\n",
    "update_alert(\"3\", \"response_time\", 0)\n",
    "update_alert(\"3\", \"resolution_time\", 0)\n",
    "update_alert(\"3\", \"status\", \"unresolved\")"
   ]
  },
  {
   "cell_type": "code",
   "execution_count": 30,
   "metadata": {},
   "outputs": [
    {
     "name": "stdout",
     "output_type": "stream",
     "text": [
      "Updated 'responder_type' of alert ID 4 to 'police'.\n",
      "Updated 'response_time' of alert ID 4 to '12'.\n",
      "Updated 'resolution_time' of alert ID 4 to '32'.\n",
      "Updated 'status' of alert ID 4 to 'resolved'.\n"
     ]
    }
   ],
   "source": [
    "import random\n",
    "\n",
    "response_time = random.randint(1, 50)\n",
    "resolution_time = response_time + 20\n",
    "\n",
    "update_alert(\"4\", \"responder_type\", \"police\")\n",
    "update_alert(\"4\", \"response_time\", response_time)\n",
    "update_alert(\"4\", \"resolution_time\", resolution_time)\n",
    "update_alert(\"4\", \"status\", \"resolved\")"
   ]
  },
  {
   "cell_type": "code",
   "execution_count": 31,
   "metadata": {},
   "outputs": [
    {
     "name": "stdout",
     "output_type": "stream",
     "text": [
      "Updated 'responder_type' of alert ID 5 to 'firefighter'.\n",
      "Updated 'response_time' of alert ID 5 to '26'.\n",
      "Updated 'resolution_time' of alert ID 5 to '0'.\n",
      "Updated 'status' of alert ID 5 to 'in progress'.\n"
     ]
    }
   ],
   "source": [
    "import random\n",
    "\n",
    "response_time = random.randint(1, 50)\n",
    "resolution_time = response_time + 20\n",
    "\n",
    "update_alert(\"5\", \"responder_type\", \"firefighter\")\n",
    "update_alert(\"5\", \"response_time\", response_time)\n",
    "update_alert(\"5\", \"resolution_time\", 0)\n",
    "update_alert(\"5\", \"status\", \"in progress\")"
   ]
  },
  {
   "cell_type": "code",
   "execution_count": 32,
   "metadata": {},
   "outputs": [
    {
     "name": "stdout",
     "output_type": "stream",
     "text": [
      "Updated 'responder_type' of alert ID 6 to 'firefighter'.\n",
      "Updated 'response_time' of alert ID 6 to '5'.\n",
      "Updated 'resolution_time' of alert ID 6 to '0'.\n",
      "Updated 'status' of alert ID 6 to 'in progress'.\n"
     ]
    }
   ],
   "source": [
    "import random\n",
    "\n",
    "response_time = random.randint(1, 50)\n",
    "resolution_time = response_time + 20\n",
    "\n",
    "update_alert(\"6\", \"responder_type\", \"firefighter\")\n",
    "update_alert(\"6\", \"response_time\", response_time)\n",
    "update_alert(\"6\", \"resolution_time\", 0)\n",
    "update_alert(\"6\", \"status\", \"in progress\")"
   ]
  },
  {
   "cell_type": "code",
   "execution_count": 33,
   "metadata": {},
   "outputs": [
    {
     "name": "stdout",
     "output_type": "stream",
     "text": [
      "Updated 'responder_type' of alert ID 7 to 'police'.\n",
      "Updated 'response_time' of alert ID 7 to '17'.\n",
      "Updated 'resolution_time' of alert ID 7 to '37'.\n",
      "Updated 'status' of alert ID 7 to 'resolved'.\n"
     ]
    }
   ],
   "source": [
    "import random\n",
    "\n",
    "response_time = random.randint(1, 50)\n",
    "resolution_time = response_time + 20\n",
    "\n",
    "update_alert(\"7\", \"responder_type\", \"police\")\n",
    "update_alert(\"7\", \"response_time\", response_time)\n",
    "update_alert(\"7\", \"resolution_time\", resolution_time)\n",
    "update_alert(\"7\", \"status\", \"resolved\")"
   ]
  },
  {
   "cell_type": "code",
   "execution_count": 23,
   "metadata": {},
   "outputs": [],
   "source": [
    "import sqlite3\n",
    "\n",
    "# Path to the SQLite database\n",
    "db_path = \"alerts copy.db\"\n",
    "\n",
    "def delete_dispatch_table():\n",
    "    \"\"\"Deletes the dispatch table.\"\"\"\n",
    "    conn = sqlite3.connect(db_path)\n",
    "    cursor = conn.cursor()\n",
    "    \n",
    "    cursor.execute(\"ALTER TABLE dispatch DROP COLUMN id;\")\n",
    "    \n",
    "    conn.commit()\n",
    "    conn.close()\n"
   ]
  },
  {
   "cell_type": "code",
   "execution_count": 16,
   "metadata": {},
   "outputs": [
    {
     "name": "stdout",
     "output_type": "stream",
     "text": [
      "Firefighter table populated successfully.\n"
     ]
    }
   ],
   "source": [
    "import sqlite3\n",
    "\n",
    "# Path to the SQLite database\n",
    "db_path = \"alerts copy.db\"\n",
    "\n",
    "def populate_police():\n",
    "    \"\"\"Automatically inserts firefighter data with sequential integer IDs and predefined zones.\"\"\"\n",
    "    conn = sqlite3.connect(db_path)\n",
    "    cursor = conn.cursor()\n",
    "    \n",
    "    zones = [\"Hamdan Street\", \"Khalidiya Mall\", \"Corniche Road\", \"Reem Island\", \"Yas Mall\", \"Al Mushrif\", \"Al Raha Beach\"]\n",
    "\n",
    "    for i, zone in enumerate(zones, start=1):\n",
    "        query = \"INSERT INTO police (id, zone) VALUES (?, ?);\"\n",
    "        cursor.execute(query, (i, zone))\n",
    "    \n",
    "    conn.commit()\n",
    "    conn.close()\n",
    "    print(\"Firefighter table populated successfully.\")\n",
    "\n",
    "# Call the function to populate the table\n",
    "populate_police()\n"
   ]
  },
  {
   "cell_type": "code",
   "execution_count": 26,
   "metadata": {},
   "outputs": [
    {
     "name": "stdout",
     "output_type": "stream",
     "text": [
      "Dispatch table populated successfully.\n"
     ]
    }
   ],
   "source": [
    "import sqlite3\n",
    "\n",
    "# Path to the SQLite database\n",
    "db_path = \"alerts copy.db\"\n",
    "\n",
    "def populate_dispatch():\n",
    "    \"\"\"Automatically inserts dispatch data with string dispatch_id, alert_id, responder IDs, and dispatch times.\"\"\"\n",
    "    conn = sqlite3.connect(db_path)\n",
    "    cursor = conn.cursor()\n",
    "    \n",
    "    dispatch_data = [\n",
    "        (\"1\", \"1\", \"1\", \"1\", \"1\", \"1\", \"2025-02-01T10:54:15.152195\"),\n",
    "        (\"2\", \"2\", \"2\", \"2\", \"2\", \"2\", \"2025-02-01T10:54:15.152199\"),\n",
    "        (\"3\", \"3\", \"3\", \"3\", None, \"3\", \"2025-02-01T10:54:15.152200\"),\n",
    "        (\"4\", \"4\", \"4\", None, None, \"4\", \"2025-02-01T10:54:15.152201\"),\n",
    "        (\"5\", \"5\", \"5\", \"5\", None, None, \"2025-02-01T10:54:15.152201\"),\n",
    "        (\"6\", \"6\", \"6\", None, \"6\", None, \"2025-02-01T10:54:15.152202\"),\n",
    "        (\"7\", \"7\", None, \"7\", None, None, \"2025-02-01T10:54:15.152202\")\n",
    "    ]\n",
    "\n",
    "    for data in dispatch_data:\n",
    "        query = \"\"\"\n",
    "        INSERT INTO dispatch (id, alert_id, police_id, drone_id, ambulance_id, firefighter_id, dispatch_time)\n",
    "        VALUES (?, ?, ?, ?, ?, ?, ?);\n",
    "        \"\"\"\n",
    "        cursor.execute(query, data)\n",
    "    \n",
    "    conn.commit()\n",
    "    conn.close()\n",
    "    print(\"Dispatch table populated successfully.\")\n",
    "\n",
    "# Call the function to populate the dispatch table\n",
    "populate_dispatch()\n"
   ]
  },
  {
   "cell_type": "code",
   "execution_count": null,
   "metadata": {},
   "outputs": [],
   "source": []
  }
 ],
 "metadata": {
  "kernelspec": {
   "display_name": "base",
   "language": "python",
   "name": "python3"
  },
  "language_info": {
   "codemirror_mode": {
    "name": "ipython",
    "version": 3
   },
   "file_extension": ".py",
   "mimetype": "text/x-python",
   "name": "python",
   "nbconvert_exporter": "python",
   "pygments_lexer": "ipython3",
   "version": "3.12.4"
  }
 },
 "nbformat": 4,
 "nbformat_minor": 2
}
