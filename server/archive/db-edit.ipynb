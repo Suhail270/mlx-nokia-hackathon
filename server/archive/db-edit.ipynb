{
 "cells": [
  {
   "cell_type": "code",
   "execution_count": 5,
   "metadata": {},
   "outputs": [
    {
     "name": "stdout",
     "output_type": "stream",
     "text": [
      "Column 'geo_info' added successfully.\n"
     ]
    }
   ],
   "source": [
    "import sqlite3\n",
    "\n",
    "# Path to the SQLite database\n",
    "db_path = \"alerts.db\"\n",
    "\n",
    "# Connect to the SQLite database\n",
    "conn = sqlite3.connect(db_path)\n",
    "cursor = conn.cursor()\n",
    "\n",
    "# Add new column \"geo_info\" if it does not exist\n",
    "cursor.execute(\"PRAGMA table_info(alerts);\")\n",
    "existing_columns = [col[1] for col in cursor.fetchall()]\n",
    "\n",
    "if \"geo_info\" not in existing_columns:\n",
    "    cursor.execute(\"ALTER TABLE alerts ADD COLUMN geo_info TEXT;\")\n",
    "    conn.commit()\n",
    "    print(\"Column 'geo_info' added successfully.\")\n",
    "else:\n",
    "    print(\"Column 'geo_info' already exists.\")\n",
    "\n",
    "# Close connection\n",
    "conn.close()\n"
   ]
  },
  {
   "cell_type": "code",
   "execution_count": 6,
   "metadata": {},
   "outputs": [],
   "source": [
    "def update_alert(alert_id, column, new_value):\n",
    "    \"\"\"Updates a specific column in the alerts table for a given id.\"\"\"\n",
    "    conn = sqlite3.connect(db_path)\n",
    "    cursor = conn.cursor()\n",
    "    \n",
    "    # Ensure column name is valid\n",
    "    valid_columns = [\"type\", \"severity\", \"location\", \"latitude\", \"longitude\", \"timestamp\", \"description\", \"image\", \"resolved\", \"video_path\", \"geo_info\"]\n",
    "    if column not in valid_columns:\n",
    "        print(f\"Error: '{column}' is not a valid column name.\")\n",
    "        return\n",
    "    \n",
    "    # Create query and execute update\n",
    "    query = f\"UPDATE alerts SET {column} = ? WHERE id = ?\"\n",
    "    cursor.execute(query, (new_value, alert_id))\n",
    "    \n",
    "    conn.commit()\n",
    "    conn.close()\n",
    "    print(f\"Updated '{column}' of alert ID {alert_id} to '{new_value}'.\")"
   ]
  },
  {
   "cell_type": "code",
   "execution_count": 7,
   "metadata": {},
   "outputs": [
    {
     "name": "stdout",
     "output_type": "stream",
     "text": [
      "Updated 'description' of alert ID 1 to 'Large fire detected in residential building. Multiple heat signatures detected.'.\n",
      "Updated 'geo_info' of alert ID 1 to '2 hospitals nearby. Possible need for admission. 3 ambulances nearby.'.\n"
     ]
    }
   ],
   "source": [
    "update_alert(\"1\", \"description\", \"Large fire detected in residential building. Multiple heat signatures detected.\")\n",
    "update_alert(\"1\", \"geo_info\", \"2 hospitals nearby. Possible need for admission. 3 ambulances nearby.\")"
   ]
  },
  {
   "cell_type": "code",
   "execution_count": 14,
   "metadata": {},
   "outputs": [
    {
     "name": "stdout",
     "output_type": "stream",
     "text": [
      "Updated 'description' of alert ID 2 to 'Potential fire detected in E11 highway.'.\n",
      "Updated 'geo_info' of alert ID 2 to 'Two individuals involved. Nearest hospital: Burjeel Hospital. Keep fire response on standby.'.\n"
     ]
    }
   ],
   "source": [
    "update_alert(\"2\", \"description\", \"Potential fire detected in E11 highway.\")\n",
    "update_alert(\"2\", \"geo_info\", \"Two individuals involved. Nearest hospital: Burjeel Hospital. Keep fire response on standby.\")"
   ]
  },
  {
   "cell_type": "code",
   "execution_count": 9,
   "metadata": {},
   "outputs": [
    {
     "name": "stdout",
     "output_type": "stream",
     "text": [
      "Updated 'description' of alert ID 3 to 'Severe assault detected. Possible injured persons'.\n",
      "Updated 'geo_info' of alert ID 3 to 'Redirect closest ambulance for assistance.'.\n"
     ]
    }
   ],
   "source": [
    "update_alert(\"3\", \"description\", \"Severe assault detected. Possible injured persons\")\n",
    "update_alert(\"3\", \"geo_info\", \"Redirect closest ambulance for assistance.\")"
   ]
  },
  {
   "cell_type": "code",
   "execution_count": 10,
   "metadata": {},
   "outputs": [
    {
     "name": "stdout",
     "output_type": "stream",
     "text": [
      "Updated 'description' of alert ID 4 to 'Critical assault near reem island bridge.'.\n",
      "Updated 'geo_info' of alert ID 4 to 'Possible injured individual. Nearest medical center: Cleveland Clinic'.\n"
     ]
    }
   ],
   "source": [
    "update_alert(\"4\", \"description\", \"Critical assault near reem island bridge.\")\n",
    "update_alert(\"4\", \"geo_info\", \"Possible injured individual. Nearest medical center: Cleveland Clinic\")"
   ]
  },
  {
   "cell_type": "code",
   "execution_count": 11,
   "metadata": {},
   "outputs": [
    {
     "name": "stdout",
     "output_type": "stream",
     "text": [
      "Updated 'description' of alert ID 5 to 'Potential fire threat near Yas Police station'.\n",
      "Updated 'geo_info' of alert ID 5 to 'Keep fire response and ambulance on standby.'.\n"
     ]
    }
   ],
   "source": [
    "update_alert(\"5\", \"description\", \"Potential fire threat near Yas Police station\")\n",
    "update_alert(\"5\", \"geo_info\", \"Keep fire response and ambulance on standby.\")"
   ]
  },
  {
   "cell_type": "code",
   "execution_count": 12,
   "metadata": {},
   "outputs": [
    {
     "name": "stdout",
     "output_type": "stream",
     "text": [
      "Updated 'description' of alert ID 6 to 'Fire detected.'.\n",
      "Updated 'geo_info' of alert ID 6 to 'Redirect ambulance and fire response immediately. Possible injured persons.'.\n"
     ]
    }
   ],
   "source": [
    "update_alert(\"6\", \"description\", \"Fire detected.\")\n",
    "update_alert(\"6\", \"geo_info\", \"Redirect ambulance and fire response immediately. Possible injured persons.\")"
   ]
  },
  {
   "cell_type": "code",
   "execution_count": 13,
   "metadata": {},
   "outputs": [
    {
     "name": "stdout",
     "output_type": "stream",
     "text": [
      "Updated 'description' of alert ID 7 to 'Assault incident detected near Yas bay.'.\n",
      "Updated 'geo_info' of alert ID 7 to 'Send nearby patrol units.'.\n"
     ]
    }
   ],
   "source": [
    "update_alert(\"7\", \"description\", \"Assault incident detected near Yas bay.\")\n",
    "update_alert(\"7\", \"geo_info\", \"Send nearby patrol units.\")"
   ]
  },
  {
   "cell_type": "code",
   "execution_count": null,
   "metadata": {},
   "outputs": [],
   "source": []
  }
 ],
 "metadata": {
  "kernelspec": {
   "display_name": "base",
   "language": "python",
   "name": "python3"
  },
  "language_info": {
   "codemirror_mode": {
    "name": "ipython",
    "version": 3
   },
   "file_extension": ".py",
   "mimetype": "text/x-python",
   "name": "python",
   "nbconvert_exporter": "python",
   "pygments_lexer": "ipython3",
   "version": "3.12.4"
  }
 },
 "nbformat": 4,
 "nbformat_minor": 2
}
