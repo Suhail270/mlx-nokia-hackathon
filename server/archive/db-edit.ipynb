{
 "cells": [
  {
   "cell_type": "code",
   "execution_count": 1,
   "metadata": {},
   "outputs": [
    {
     "name": "stdout",
     "output_type": "stream",
     "text": [
      "Column 'responder_type' already exists.\n"
     ]
    }
   ],
   "source": [
    "import sqlite3\n",
    "\n",
    "# Path to the SQLite database\n",
    "db_path = \"alerts.db\"\n",
    "\n",
    "# Connect to the SQLite database\n",
    "conn = sqlite3.connect(db_path)\n",
    "cursor = conn.cursor()\n",
    "\n",
    "# Add new column \"geo_info\" if it does not exist\n",
    "cursor.execute(\"PRAGMA table_info(alerts);\")\n",
    "existing_columns = [col[1] for col in cursor.fetchall()]\n",
    "\n",
    "if \"status\" not in existing_columns:\n",
    "    cursor.execute(\"ALTER TABLE alerts ADD COLUMN status STR;\")\n",
    "    conn.commit()\n",
    "    print(\"Column 'responder_type' added successfully.\")\n",
    "else:\n",
    "    print(\"Column 'responder_type' already exists.\")\n",
    "\n",
    "# Close connection\n",
    "conn.close()\n"
   ]
  },
  {
   "cell_type": "code",
   "execution_count": 26,
   "metadata": {},
   "outputs": [],
   "source": [
    "def update_alert(alert_id, column, new_value):\n",
    "    \"\"\"Updates a specific column in the alerts table for a given id.\"\"\"\n",
    "    conn = sqlite3.connect(db_path)\n",
    "    cursor = conn.cursor()\n",
    "    \n",
    "    # Ensure column name is valid\n",
    "    valid_columns = [\"type\", \"severity\", \"location\", \"latitude\", \"longitude\", \"timestamp\", \"description\", \"image\", \"video_path\", \"geo_info\", \"responder_type\", \"response_time\", \"resolution_time\", \"status\"]\n",
    "    if column not in valid_columns:\n",
    "        print(f\"Error: '{column}' is not a valid column name.\")\n",
    "        return\n",
    "    \n",
    "    # Create query and execute update\n",
    "    query = f\"UPDATE alerts SET {column} = ? WHERE id = ?\"\n",
    "    cursor.execute(query, (new_value, alert_id))\n",
    "    \n",
    "    conn.commit()\n",
    "    conn.close()\n",
    "    print(f\"Updated '{column}' of alert ID {alert_id} to '{new_value}'.\")"
   ]
  },
  {
   "cell_type": "code",
   "execution_count": 27,
   "metadata": {},
   "outputs": [
    {
     "name": "stdout",
     "output_type": "stream",
     "text": [
      "Updated 'responder_type' of alert ID 1 to 'firefighter'.\n",
      "Updated 'response_time' of alert ID 1 to '22'.\n",
      "Updated 'resolution_time' of alert ID 1 to '42'.\n",
      "Updated 'status' of alert ID 1 to 'resolved'.\n"
     ]
    }
   ],
   "source": [
    "import random\n",
    "\n",
    "response_time = random.randint(1, 50)\n",
    "resolution_time = response_time + 20\n",
    "\n",
    "update_alert(\"1\", \"responder_type\", \"firefighter\")\n",
    "update_alert(\"1\", \"response_time\", response_time)\n",
    "update_alert(\"1\", \"resolution_time\", resolution_time)\n",
    "update_alert(\"1\", \"status\", \"resolved\")"
   ]
  },
  {
   "cell_type": "code",
   "execution_count": 28,
   "metadata": {},
   "outputs": [
    {
     "name": "stdout",
     "output_type": "stream",
     "text": [
      "Updated 'responder_type' of alert ID 2 to 'firefighter'.\n",
      "Updated 'response_time' of alert ID 2 to '44'.\n",
      "Updated 'resolution_time' of alert ID 2 to '0'.\n",
      "Updated 'status' of alert ID 2 to 'in progress'.\n"
     ]
    }
   ],
   "source": [
    "import random\n",
    "\n",
    "response_time = random.randint(1, 50)\n",
    "resolution_time = response_time + 20\n",
    "\n",
    "update_alert(\"2\", \"responder_type\", \"firefighter\")\n",
    "update_alert(\"2\", \"response_time\", response_time)\n",
    "update_alert(\"2\", \"resolution_time\", 0)\n",
    "update_alert(\"2\", \"status\", \"in progress\")"
   ]
  },
  {
   "cell_type": "code",
   "execution_count": 29,
   "metadata": {},
   "outputs": [
    {
     "name": "stdout",
     "output_type": "stream",
     "text": [
      "Updated 'responder_type' of alert ID 3 to 'police'.\n",
      "Updated 'response_time' of alert ID 3 to '0'.\n",
      "Updated 'resolution_time' of alert ID 3 to '0'.\n",
      "Updated 'status' of alert ID 3 to 'unresolved'.\n"
     ]
    }
   ],
   "source": [
    "import random\n",
    "\n",
    "response_time = random.randint(1, 50)\n",
    "resolution_time = response_time + 20\n",
    "\n",
    "update_alert(\"3\", \"responder_type\", \"police\")\n",
    "update_alert(\"3\", \"response_time\", 0)\n",
    "update_alert(\"3\", \"resolution_time\", 0)\n",
    "update_alert(\"3\", \"status\", \"unresolved\")"
   ]
  },
  {
   "cell_type": "code",
   "execution_count": 30,
   "metadata": {},
   "outputs": [
    {
     "name": "stdout",
     "output_type": "stream",
     "text": [
      "Updated 'responder_type' of alert ID 4 to 'police'.\n",
      "Updated 'response_time' of alert ID 4 to '12'.\n",
      "Updated 'resolution_time' of alert ID 4 to '32'.\n",
      "Updated 'status' of alert ID 4 to 'resolved'.\n"
     ]
    }
   ],
   "source": [
    "import random\n",
    "\n",
    "response_time = random.randint(1, 50)\n",
    "resolution_time = response_time + 20\n",
    "\n",
    "update_alert(\"4\", \"responder_type\", \"police\")\n",
    "update_alert(\"4\", \"response_time\", response_time)\n",
    "update_alert(\"4\", \"resolution_time\", resolution_time)\n",
    "update_alert(\"4\", \"status\", \"resolved\")"
   ]
  },
  {
   "cell_type": "code",
   "execution_count": 31,
   "metadata": {},
   "outputs": [
    {
     "name": "stdout",
     "output_type": "stream",
     "text": [
      "Updated 'responder_type' of alert ID 5 to 'firefighter'.\n",
      "Updated 'response_time' of alert ID 5 to '26'.\n",
      "Updated 'resolution_time' of alert ID 5 to '0'.\n",
      "Updated 'status' of alert ID 5 to 'in progress'.\n"
     ]
    }
   ],
   "source": [
    "import random\n",
    "\n",
    "response_time = random.randint(1, 50)\n",
    "resolution_time = response_time + 20\n",
    "\n",
    "update_alert(\"5\", \"responder_type\", \"firefighter\")\n",
    "update_alert(\"5\", \"response_time\", response_time)\n",
    "update_alert(\"5\", \"resolution_time\", 0)\n",
    "update_alert(\"5\", \"status\", \"in progress\")"
   ]
  },
  {
   "cell_type": "code",
   "execution_count": 32,
   "metadata": {},
   "outputs": [
    {
     "name": "stdout",
     "output_type": "stream",
     "text": [
      "Updated 'responder_type' of alert ID 6 to 'firefighter'.\n",
      "Updated 'response_time' of alert ID 6 to '5'.\n",
      "Updated 'resolution_time' of alert ID 6 to '0'.\n",
      "Updated 'status' of alert ID 6 to 'in progress'.\n"
     ]
    }
   ],
   "source": [
    "import random\n",
    "\n",
    "response_time = random.randint(1, 50)\n",
    "resolution_time = response_time + 20\n",
    "\n",
    "update_alert(\"6\", \"responder_type\", \"firefighter\")\n",
    "update_alert(\"6\", \"response_time\", response_time)\n",
    "update_alert(\"6\", \"resolution_time\", 0)\n",
    "update_alert(\"6\", \"status\", \"in progress\")"
   ]
  },
  {
   "cell_type": "code",
   "execution_count": 33,
   "metadata": {},
   "outputs": [
    {
     "name": "stdout",
     "output_type": "stream",
     "text": [
      "Updated 'responder_type' of alert ID 7 to 'police'.\n",
      "Updated 'response_time' of alert ID 7 to '17'.\n",
      "Updated 'resolution_time' of alert ID 7 to '37'.\n",
      "Updated 'status' of alert ID 7 to 'resolved'.\n"
     ]
    }
   ],
   "source": [
    "import random\n",
    "\n",
    "response_time = random.randint(1, 50)\n",
    "resolution_time = response_time + 20\n",
    "\n",
    "update_alert(\"7\", \"responder_type\", \"police\")\n",
    "update_alert(\"7\", \"response_time\", response_time)\n",
    "update_alert(\"7\", \"resolution_time\", resolution_time)\n",
    "update_alert(\"7\", \"status\", \"resolved\")"
   ]
  },
  {
   "cell_type": "code",
   "execution_count": 42,
   "metadata": {},
   "outputs": [
    {
     "name": "stdout",
     "output_type": "stream",
     "text": [
      "Inserted 'Hamdan Street' into firefighter table.\n",
      "Inserted 'Khalidiya Mall' into firefighter table.\n",
      "Inserted 'Corniche Road' into firefighter table.\n",
      "Inserted 'Reem Island' into firefighter table.\n",
      "Inserted 'Yas Mall' into firefighter table.\n",
      "Inserted 'Al Mushrif' into firefighter table.\n",
      "Inserted 'Al Raha Beach' into firefighter table.\n"
     ]
    }
   ],
   "source": [
    "import sqlite3\n",
    "\n",
    "# Path to the SQLite database\n",
    "db_path = \"alerts.db\"\n",
    "\n",
    "def populate_firefighter(zone):\n",
    "    \"\"\"Inserts a zone into the firefighters table.\"\"\"\n",
    "    conn = sqlite3.connect(db_path)\n",
    "    cursor = conn.cursor()\n",
    "    \n",
    "    # Ensure column name is valid\n",
    "    valid_columns = [\"zone\"]\n",
    "    if \"zone\" not in valid_columns:\n",
    "        print(f\"Error: 'zone' is not a valid column name.\")\n",
    "        return\n",
    "    \n",
    "    # Create query and execute insert\n",
    "    query = \"INSERT INTO firefighter (zone) VALUES (?);\"\n",
    "    cursor.execute(query, (zone,))\n",
    "    \n",
    "    conn.commit()\n",
    "    conn.close()\n",
    "    print(f\"Inserted '{zone}' into firefighter table.\")\n",
    "\n",
    "# List of zones\n",
    "zones = [\"Hamdan Street\", \"Khalidiya Mall\", \"Corniche Road\", \"Reem Island\", \"Yas Mall\", \"Al Mushrif\", \"Al Raha Beach\"]\n",
    "\n",
    "# Insert all zones\n",
    "for zone in zones:\n",
    "    populate_firefighter(zone)\n"
   ]
  },
  {
   "cell_type": "code",
   "execution_count": 43,
   "metadata": {},
   "outputs": [
    {
     "name": "stdout",
     "output_type": "stream",
     "text": [
      "Inserted 'Hamdan Street' into ambulance table.\n",
      "Inserted 'Khalidiya Mall' into ambulance table.\n",
      "Inserted 'Corniche Road' into ambulance table.\n",
      "Inserted 'Reem Island' into ambulance table.\n",
      "Inserted 'Yas Mall' into ambulance table.\n",
      "Inserted 'Al Mushrif' into ambulance table.\n",
      "Inserted 'Al Raha Beach' into ambulance table.\n"
     ]
    }
   ],
   "source": [
    "import sqlite3\n",
    "\n",
    "# Path to the SQLite database\n",
    "db_path = \"alerts.db\"\n",
    "\n",
    "def populate_ambulance(zone):\n",
    "    \"\"\"Inserts a zone into the firefighters table.\"\"\"\n",
    "    conn = sqlite3.connect(db_path)\n",
    "    cursor = conn.cursor()\n",
    "    \n",
    "    # Ensure column name is valid\n",
    "    valid_columns = [\"zone\"]\n",
    "    if \"zone\" not in valid_columns:\n",
    "        print(f\"Error: 'zone' is not a valid column name.\")\n",
    "        return\n",
    "    \n",
    "    # Create query and execute insert\n",
    "    query = \"INSERT INTO ambulance (zone) VALUES (?);\"\n",
    "    cursor.execute(query, (zone,))\n",
    "    \n",
    "    conn.commit()\n",
    "    conn.close()\n",
    "    print(f\"Inserted '{zone}' into ambulance table.\")\n",
    "\n",
    "# List of zones\n",
    "zones = [\"Hamdan Street\", \"Khalidiya Mall\", \"Corniche Road\", \"Reem Island\", \"Yas Mall\", \"Al Mushrif\", \"Al Raha Beach\"]\n",
    "\n",
    "# Insert all zones\n",
    "for zone in zones:\n",
    "    populate_ambulance(zone)\n"
   ]
  },
  {
   "cell_type": "code",
   "execution_count": 44,
   "metadata": {},
   "outputs": [
    {
     "name": "stdout",
     "output_type": "stream",
     "text": [
      "Inserted 'Hamdan Street' into drone table.\n",
      "Inserted 'Khalidiya Mall' into drone table.\n",
      "Inserted 'Corniche Road' into drone table.\n",
      "Inserted 'Reem Island' into drone table.\n",
      "Inserted 'Yas Mall' into drone table.\n",
      "Inserted 'Al Mushrif' into drone table.\n",
      "Inserted 'Al Raha Beach' into drone table.\n"
     ]
    }
   ],
   "source": [
    "import sqlite3\n",
    "\n",
    "# Path to the SQLite database\n",
    "db_path = \"alerts.db\"\n",
    "\n",
    "def populate_drone(zone):\n",
    "    \"\"\"Inserts a zone into the firefighters table.\"\"\"\n",
    "    conn = sqlite3.connect(db_path)\n",
    "    cursor = conn.cursor()\n",
    "    \n",
    "    # Ensure column name is valid\n",
    "    valid_columns = [\"zone\"]\n",
    "    if \"zone\" not in valid_columns:\n",
    "        print(f\"Error: 'zone' is not a valid column name.\")\n",
    "        return\n",
    "    \n",
    "    # Create query and execute insert\n",
    "    query = \"INSERT INTO drone (zone) VALUES (?);\"\n",
    "    cursor.execute(query, (zone,))\n",
    "    \n",
    "    conn.commit()\n",
    "    conn.close()\n",
    "    print(f\"Inserted '{zone}' into drone table.\")\n",
    "\n",
    "# List of zones\n",
    "zones = [\"Hamdan Street\", \"Khalidiya Mall\", \"Corniche Road\", \"Reem Island\", \"Yas Mall\", \"Al Mushrif\", \"Al Raha Beach\"]\n",
    "\n",
    "# Insert all zones\n",
    "for zone in zones:\n",
    "    populate_drone(zone)\n"
   ]
  },
  {
   "cell_type": "code",
   "execution_count": 45,
   "metadata": {},
   "outputs": [
    {
     "name": "stdout",
     "output_type": "stream",
     "text": [
      "Inserted 'Hamdan Street' into police table.\n",
      "Inserted 'Khalidiya Mall' into police table.\n",
      "Inserted 'Corniche Road' into police table.\n",
      "Inserted 'Reem Island' into police table.\n",
      "Inserted 'Yas Mall' into police table.\n",
      "Inserted 'Al Mushrif' into police table.\n",
      "Inserted 'Al Raha Beach' into police table.\n"
     ]
    }
   ],
   "source": [
    "import sqlite3\n",
    "\n",
    "# Path to the SQLite database\n",
    "db_path = \"alerts.db\"\n",
    "\n",
    "def populate_police(zone):\n",
    "    \"\"\"Inserts a zone into the firefighters table.\"\"\"\n",
    "    conn = sqlite3.connect(db_path)\n",
    "    cursor = conn.cursor()\n",
    "    \n",
    "    # Ensure column name is valid\n",
    "    valid_columns = [\"zone\"]\n",
    "    if \"zone\" not in valid_columns:\n",
    "        print(f\"Error: 'zone' is not a valid column name.\")\n",
    "        return\n",
    "    \n",
    "    # Create query and execute insert\n",
    "    query = \"INSERT INTO police (zone) VALUES (?);\"\n",
    "    cursor.execute(query, (zone,))\n",
    "    \n",
    "    conn.commit()\n",
    "    conn.close()\n",
    "    print(f\"Inserted '{zone}' into police table.\")\n",
    "\n",
    "# List of zones\n",
    "zones = [\"Hamdan Street\", \"Khalidiya Mall\", \"Corniche Road\", \"Reem Island\", \"Yas Mall\", \"Al Mushrif\", \"Al Raha Beach\"]\n",
    "\n",
    "# Insert all zones\n",
    "for zone in zones:\n",
    "    populate_police(zone)\n"
   ]
  },
  {
   "cell_type": "code",
   "execution_count": 48,
   "metadata": {},
   "outputs": [
    {
     "name": "stdout",
     "output_type": "stream",
     "text": [
      "All rows deleted from the dispatch table.\n"
     ]
    }
   ],
   "source": [
    "import sqlite3\n",
    "\n",
    "# Path to the SQLite database\n",
    "db_path = \"alerts.db\"\n",
    "\n",
    "def delete_all_dispatch():\n",
    "    \"\"\"Deletes all rows from the dispatch table.\"\"\"\n",
    "    conn = sqlite3.connect(db_path)\n",
    "    cursor = conn.cursor()\n",
    "\n",
    "    cursor.execute(\"DELETE FROM dispatch;\")\n",
    "    conn.commit()\n",
    "    conn.close()\n",
    "    print(\"All rows deleted from the dispatch table.\")\n",
    "\n",
    "# Call the function\n",
    "delete_all_dispatch()\n"
   ]
  },
  {
   "cell_type": "code",
   "execution_count": 51,
   "metadata": {},
   "outputs": [
    {
     "name": "stdout",
     "output_type": "stream",
     "text": [
      "Dispatch table populated successfully.\n"
     ]
    }
   ],
   "source": [
    "import sqlite3\n",
    "import random\n",
    "\n",
    "# Path to the SQLite database\n",
    "db_path = \"alerts.db\"\n",
    "\n",
    "def populate_dispatch_from_alerts():\n",
    "    \"\"\"Populate dispatch table based on predefined logic.\"\"\"\n",
    "    conn = sqlite3.connect(db_path)\n",
    "    cursor = conn.cursor()\n",
    "\n",
    "\n",
    "    incidents = [\n",
    "        (1, 1, 1, 1, 1, random.randint(5, 10)),  # Critical Fire - All responders\n",
    "        (2, 2, 2, 2, None, random.randint(5, 10)),  # Warning Fire - No Drone\n",
    "        (3, None, 3, 3, None, random.randint(5, 10)),  # Critical Assault - No Firefighter, No Drone\n",
    "        (4, None, 4, 4, None, random.randint(5, 10)),  # Critical Assault - No Firefighter, No Drone\n",
    "        (5, 5, 5, 5, None, random.randint(5, 10)),  # Warning Fire - No Drone\n",
    "        (6, 6, 6, 6, 6, random.randint(5, 10)),  # Critical Fire - All responders\n",
    "        (7, None, None, 7, None, random.randint(5, 10))  # High Assault - Only Police\n",
    "    ]\n",
    "\n",
    "    # Insert data based on logic\n",
    "    for alert_id, police_id, ambulance_id, firefighter_id, drone_id, dispatch_time in incidents:\n",
    "        query = \"\"\"\n",
    "        INSERT INTO dispatch (alert_id, police_id, ambulance_id, firefighter_id, drone_id, dispatch_time)\n",
    "        VALUES (?, ?, ?, ?, ?, ?);\n",
    "        \"\"\"\n",
    "        cursor.execute(query, (alert_id, police_id, ambulance_id, firefighter_id, drone_id, dispatch_time))\n",
    "\n",
    "    conn.commit()\n",
    "    conn.close()\n",
    "    print(\"Dispatch table populated successfully.\")\n",
    "\n",
    "# Call the function\n",
    "populate_dispatch_from_alerts()\n"
   ]
  },
  {
   "cell_type": "code",
   "execution_count": null,
   "metadata": {},
   "outputs": [],
   "source": []
  }
 ],
 "metadata": {
  "kernelspec": {
   "display_name": "base",
   "language": "python",
   "name": "python3"
  },
  "language_info": {
   "codemirror_mode": {
    "name": "ipython",
    "version": 3
   },
   "file_extension": ".py",
   "mimetype": "text/x-python",
   "name": "python",
   "nbconvert_exporter": "python",
   "pygments_lexer": "ipython3",
   "version": "3.12.4"
  }
 },
 "nbformat": 4,
 "nbformat_minor": 2
}
