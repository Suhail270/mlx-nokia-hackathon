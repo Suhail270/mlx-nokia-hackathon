{
 "cells": [
  {
   "cell_type": "code",
   "execution_count": 11,
   "metadata": {},
   "outputs": [
    {
     "name": "stdout",
     "output_type": "stream",
     "text": [
      "Column 'responder_type' added successfully.\n"
     ]
    }
   ],
   "source": [
    "import sqlite3\n",
    "\n",
    "# Path to the SQLite database\n",
    "db_path = \"alerts.db\"\n",
    "\n",
    "# Connect to the SQLite database\n",
    "conn = sqlite3.connect(db_path)\n",
    "cursor = conn.cursor()\n",
    "\n",
    "# Add new column \"geo_info\" if it does not exist\n",
    "cursor.execute(\"PRAGMA table_info(alerts);\")\n",
    "existing_columns = [col[1] for col in cursor.fetchall()]\n",
    "\n",
    "if \"response_time\" not in existing_columns:\n",
    "    cursor.execute(\"ALTER TABLE alerts ADD COLUMN response_time INT;\")\n",
    "    conn.commit()\n",
    "    print(\"Column 'responder_type' added successfully.\")\n",
    "else:\n",
    "    print(\"Column 'responder_type' already exists.\")\n",
    "\n",
    "# Close connection\n",
    "conn.close()\n"
   ]
  },
  {
   "cell_type": "code",
   "execution_count": 12,
   "metadata": {},
   "outputs": [],
   "source": [
    "def update_alert(alert_id, column, new_value):\n",
    "    \"\"\"Updates a specific column in the alerts table for a given id.\"\"\"\n",
    "    conn = sqlite3.connect(db_path)\n",
    "    cursor = conn.cursor()\n",
    "    \n",
    "    # Ensure column name is valid\n",
    "    valid_columns = [\"type\", \"severity\", \"location\", \"latitude\", \"longitude\", \"timestamp\", \"description\", \"image\", \"resolved\", \"video_path\", \"geo_info\", \"responder_type\", \"status\", \"response_time\", \"resolution_time\"]\n",
    "    if column not in valid_columns:\n",
    "        print(f\"Error: '{column}' is not a valid column name.\")\n",
    "        return\n",
    "    \n",
    "    # Create query and execute update\n",
    "    query = f\"UPDATE alerts SET {column} = ? WHERE id = ?\"\n",
    "    cursor.execute(query, (new_value, alert_id))\n",
    "    \n",
    "    conn.commit()\n",
    "    conn.close()\n",
    "    print(f\"Updated '{column}' of alert ID {alert_id} to '{new_value}'.\")"
   ]
  },
  {
   "cell_type": "code",
   "execution_count": 13,
   "metadata": {},
   "outputs": [
    {
     "name": "stdout",
     "output_type": "stream",
     "text": [
      "Updated 'response_time' of alert ID 1 to '6'.\n",
      "Updated 'resolution_time' of alert ID 1 to '26'.\n"
     ]
    }
   ],
   "source": [
    "import random\n",
    "\n",
    "response_time = random.randint(1, 50)\n",
    "resolution_time = response_time + 20\n",
    "\n",
    "\n",
    "update_alert(\"1\", \"response_time\", response_time)\n",
    "update_alert(\"1\", \"resolution_time\", resolution_time)"
   ]
  },
  {
   "cell_type": "code",
   "execution_count": 14,
   "metadata": {},
   "outputs": [
    {
     "name": "stdout",
     "output_type": "stream",
     "text": [
      "Updated 'response_time' of alert ID 2 to '32'.\n",
      "Updated 'resolution_time' of alert ID 2 to '52'.\n"
     ]
    }
   ],
   "source": [
    "import random\n",
    "\n",
    "response_time = random.randint(1, 50)\n",
    "resolution_time = response_time + 20\n",
    "\n",
    "\n",
    "update_alert(\"2\", \"response_time\", response_time)\n",
    "update_alert(\"2\", \"resolution_time\", resolution_time)"
   ]
  },
  {
   "cell_type": "code",
   "execution_count": 15,
   "metadata": {},
   "outputs": [
    {
     "name": "stdout",
     "output_type": "stream",
     "text": [
      "Updated 'response_time' of alert ID 3 to '34'.\n",
      "Updated 'resolution_time' of alert ID 3 to '54'.\n"
     ]
    }
   ],
   "source": [
    "import random\n",
    "\n",
    "response_time = random.randint(1, 50)\n",
    "resolution_time = response_time + 20\n",
    "\n",
    "\n",
    "update_alert(\"3\", \"response_time\", response_time)\n",
    "update_alert(\"3\", \"resolution_time\", resolution_time)"
   ]
  },
  {
   "cell_type": "code",
   "execution_count": 16,
   "metadata": {},
   "outputs": [
    {
     "name": "stdout",
     "output_type": "stream",
     "text": [
      "Updated 'response_time' of alert ID 4 to '18'.\n",
      "Updated 'resolution_time' of alert ID 4 to '38'.\n"
     ]
    }
   ],
   "source": [
    "import random\n",
    "\n",
    "response_time = random.randint(1, 50)\n",
    "resolution_time = response_time + 20\n",
    "\n",
    "\n",
    "update_alert(\"4\", \"response_time\", response_time)\n",
    "update_alert(\"4\", \"resolution_time\", resolution_time)"
   ]
  },
  {
   "cell_type": "code",
   "execution_count": 17,
   "metadata": {},
   "outputs": [
    {
     "name": "stdout",
     "output_type": "stream",
     "text": [
      "Updated 'response_time' of alert ID 5 to '8'.\n",
      "Updated 'resolution_time' of alert ID 5 to '28'.\n"
     ]
    }
   ],
   "source": [
    "import random\n",
    "\n",
    "response_time = random.randint(1, 50)\n",
    "resolution_time = response_time + 20\n",
    "\n",
    "\n",
    "update_alert(\"5\", \"response_time\", response_time)\n",
    "update_alert(\"5\", \"resolution_time\", resolution_time)"
   ]
  },
  {
   "cell_type": "code",
   "execution_count": 18,
   "metadata": {},
   "outputs": [
    {
     "name": "stdout",
     "output_type": "stream",
     "text": [
      "Updated 'response_time' of alert ID 6 to '42'.\n",
      "Updated 'resolution_time' of alert ID 6 to '62'.\n"
     ]
    }
   ],
   "source": [
    "import random\n",
    "\n",
    "response_time = random.randint(1, 50)\n",
    "resolution_time = response_time + 20\n",
    "\n",
    "\n",
    "update_alert(\"6\", \"response_time\", response_time)\n",
    "update_alert(\"6\", \"resolution_time\", resolution_time)"
   ]
  },
  {
   "cell_type": "code",
   "execution_count": 19,
   "metadata": {},
   "outputs": [
    {
     "name": "stdout",
     "output_type": "stream",
     "text": [
      "Updated 'response_time' of alert ID 7 to '7'.\n",
      "Updated 'resolution_time' of alert ID 7 to '27'.\n"
     ]
    }
   ],
   "source": [
    "import random\n",
    "\n",
    "response_time = random.randint(1, 50)\n",
    "resolution_time = response_time + 20\n",
    "\n",
    "\n",
    "update_alert(\"7\", \"response_time\", response_time)\n",
    "update_alert(\"7\", \"resolution_time\", resolution_time)"
   ]
  },
  {
   "cell_type": "code",
   "execution_count": null,
   "metadata": {},
   "outputs": [],
   "source": []
  }
 ],
 "metadata": {
  "kernelspec": {
   "display_name": "base",
   "language": "python",
   "name": "python3"
  },
  "language_info": {
   "codemirror_mode": {
    "name": "ipython",
    "version": 3
   },
   "file_extension": ".py",
   "mimetype": "text/x-python",
   "name": "python",
   "nbconvert_exporter": "python",
   "pygments_lexer": "ipython3",
   "version": "3.12.2"
  }
 },
 "nbformat": 4,
 "nbformat_minor": 2
}
