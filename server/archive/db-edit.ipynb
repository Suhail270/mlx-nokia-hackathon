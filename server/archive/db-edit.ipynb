{
 "cells": [
  {
   "cell_type": "code",
   "execution_count": 1,
   "metadata": {},
   "outputs": [],
   "source": [
    "import sqlite3\n",
    "\n",
    "# Path to the SQLite database\n",
    "db_path = \"alerts.db\"\n",
    "\n",
    "# Connect to the SQLite database\n",
    "conn = sqlite3.connect(db_path)\n",
    "cursor = conn.cursor()\n",
    "\n",
    "# Add new column \"geo_info\" if it does not exist\n",
    "cursor.execute(\"PRAGMA table_info(alerts);\")\n",
    "existing_columns = [col[1] for col in cursor.fetchall()]\n",
    "\n",
    "# if \"aiSummary\" not in existing_columns:\n",
    "#     cursor.execute(\"ALTER TABLE alerts ADD COLUMN aiSummary STR;\")\n",
    "#     conn.commit()\n",
    "#     print(\"Column 'responder_type' added successfully.\")\n",
    "# else:\n",
    "#     print(\"Column 'responder_type' already exists.\")\n",
    "\n",
    "# Close connection\n",
    "conn.close()\n"
   ]
  },
  {
   "cell_type": "code",
   "execution_count": 2,
   "metadata": {},
   "outputs": [],
   "source": [
    "def update_alert(alert_id, column, new_value):\n",
    "    \"\"\"Updates a specific column in the alerts table for a given id.\"\"\"\n",
    "    conn = sqlite3.connect(db_path)\n",
    "    cursor = conn.cursor()\n",
    "    \n",
    "    # Ensure column name is valid\n",
    "    valid_columns = [\"type\", \"severity\", \"location\", \"latitude\", \"longitude\", \"timestamp\", \"description\", \"image\", \"video_path\", \"geo_info\", \"responder_type\", \"response_time\", \"resolution_time\", \"status\", \"aiSummary\"]\n",
    "    if column not in valid_columns:\n",
    "        print(f\"Error: '{column}' is not a valid column name.\")\n",
    "        return\n",
    "    \n",
    "    # Create query and execute update\n",
    "    query = f\"UPDATE alerts SET {column} = ? WHERE id = ?\"\n",
    "    cursor.execute(query, (new_value, alert_id))\n",
    "    \n",
    "    conn.commit()\n",
    "    conn.close()\n",
    "    print(f\"Updated '{column}' of alert ID {alert_id} to '{new_value}'.\")"
   ]
  },
  {
   "cell_type": "code",
   "execution_count": 3,
   "metadata": {},
   "outputs": [
    {
     "name": "stdout",
     "output_type": "stream",
     "text": [
      "Updated 'video_path' of alert ID 3 to 'server/annotated_videos/output_fight_video.mp4'.\n",
      "Updated 'video_path' of alert ID 4 to 'server/annotated_videos/output_fight_video2.mp4'.\n",
      "Updated 'video_path' of alert ID 7 to 'server/annotated_videos/output_fight_video3.mp4'.\n"
     ]
    }
   ],
   "source": [
    "update_alert(\"3\", \"video_path\", \"server/annotated_videos/output_fight_video.mp4\")\n",
    "update_alert(\"4\", \"video_path\", \"server/annotated_videos/output_fight_video2.mp4\")\n",
    "update_alert(\"7\", \"video_path\", \"server/annotated_videos/output_fight_video3.mp4\")\n"
   ]
  },
  {
   "cell_type": "code",
   "execution_count": 28,
   "metadata": {},
   "outputs": [
    {
     "name": "stdout",
     "output_type": "stream",
     "text": [
      "Updated 'responder_type' of alert ID 2 to 'firefighter'.\n",
      "Updated 'response_time' of alert ID 2 to '44'.\n",
      "Updated 'resolution_time' of alert ID 2 to '0'.\n",
      "Updated 'status' of alert ID 2 to 'in progress'.\n"
     ]
    }
   ],
   "source": [
    "import random\n",
    "\n",
    "response_time = random.randint(1, 50)\n",
    "resolution_time = response_time + 20\n",
    "\n",
    "update_alert(\"2\", \"responder_type\", \"firefighter\")\n",
    "update_alert(\"2\", \"response_time\", response_time)\n",
    "update_alert(\"2\", \"resolution_time\", 0)\n",
    "update_alert(\"2\", \"status\", \"in progress\")"
   ]
  },
  {
   "cell_type": "code",
   "execution_count": 29,
   "metadata": {},
   "outputs": [
    {
     "name": "stdout",
     "output_type": "stream",
     "text": [
      "Updated 'responder_type' of alert ID 3 to 'police'.\n",
      "Updated 'response_time' of alert ID 3 to '0'.\n",
      "Updated 'resolution_time' of alert ID 3 to '0'.\n",
      "Updated 'status' of alert ID 3 to 'unresolved'.\n"
     ]
    }
   ],
   "source": [
    "import random\n",
    "\n",
    "response_time = random.randint(1, 50)\n",
    "resolution_time = response_time + 20\n",
    "\n",
    "update_alert(\"3\", \"responder_type\", \"police\")\n",
    "update_alert(\"3\", \"response_time\", 0)\n",
    "update_alert(\"3\", \"resolution_time\", 0)\n",
    "update_alert(\"3\", \"status\", \"unresolved\")"
   ]
  },
  {
   "cell_type": "code",
   "execution_count": 30,
   "metadata": {},
   "outputs": [
    {
     "name": "stdout",
     "output_type": "stream",
     "text": [
      "Updated 'responder_type' of alert ID 4 to 'police'.\n",
      "Updated 'response_time' of alert ID 4 to '12'.\n",
      "Updated 'resolution_time' of alert ID 4 to '32'.\n",
      "Updated 'status' of alert ID 4 to 'resolved'.\n"
     ]
    }
   ],
   "source": [
    "import random\n",
    "\n",
    "response_time = random.randint(1, 50)\n",
    "resolution_time = response_time + 20\n",
    "\n",
    "update_alert(\"4\", \"responder_type\", \"police\")\n",
    "update_alert(\"4\", \"response_time\", response_time)\n",
    "update_alert(\"4\", \"resolution_time\", resolution_time)\n",
    "update_alert(\"4\", \"status\", \"resolved\")"
   ]
  },
  {
   "cell_type": "code",
   "execution_count": 31,
   "metadata": {},
   "outputs": [
    {
     "name": "stdout",
     "output_type": "stream",
     "text": [
      "Updated 'responder_type' of alert ID 5 to 'firefighter'.\n",
      "Updated 'response_time' of alert ID 5 to '26'.\n",
      "Updated 'resolution_time' of alert ID 5 to '0'.\n",
      "Updated 'status' of alert ID 5 to 'in progress'.\n"
     ]
    }
   ],
   "source": [
    "import random\n",
    "\n",
    "response_time = random.randint(1, 50)\n",
    "resolution_time = response_time + 20\n",
    "\n",
    "update_alert(\"5\", \"responder_type\", \"firefighter\")\n",
    "update_alert(\"5\", \"response_time\", response_time)\n",
    "update_alert(\"5\", \"resolution_time\", 0)\n",
    "update_alert(\"5\", \"status\", \"in progress\")"
   ]
  },
  {
   "cell_type": "code",
   "execution_count": 32,
   "metadata": {},
   "outputs": [
    {
     "name": "stdout",
     "output_type": "stream",
     "text": [
      "Updated 'responder_type' of alert ID 6 to 'firefighter'.\n",
      "Updated 'response_time' of alert ID 6 to '5'.\n",
      "Updated 'resolution_time' of alert ID 6 to '0'.\n",
      "Updated 'status' of alert ID 6 to 'in progress'.\n"
     ]
    }
   ],
   "source": [
    "import random\n",
    "\n",
    "response_time = random.randint(1, 50)\n",
    "resolution_time = response_time + 20\n",
    "\n",
    "update_alert(\"6\", \"responder_type\", \"firefighter\")\n",
    "update_alert(\"6\", \"response_time\", response_time)\n",
    "update_alert(\"6\", \"resolution_time\", 0)\n",
    "update_alert(\"6\", \"status\", \"in progress\")"
   ]
  },
  {
   "cell_type": "code",
   "execution_count": 33,
   "metadata": {},
   "outputs": [
    {
     "name": "stdout",
     "output_type": "stream",
     "text": [
      "Updated 'responder_type' of alert ID 7 to 'police'.\n",
      "Updated 'response_time' of alert ID 7 to '17'.\n",
      "Updated 'resolution_time' of alert ID 7 to '37'.\n",
      "Updated 'status' of alert ID 7 to 'resolved'.\n"
     ]
    }
   ],
   "source": [
    "import random\n",
    "\n",
    "response_time = random.randint(1, 50)\n",
    "resolution_time = response_time + 20\n",
    "\n",
    "update_alert(\"7\", \"responder_type\", \"police\")\n",
    "update_alert(\"7\", \"response_time\", response_time)\n",
    "update_alert(\"7\", \"resolution_time\", resolution_time)\n",
    "update_alert(\"7\", \"status\", \"resolved\")"
   ]
  },
  {
   "cell_type": "code",
   "execution_count": 23,
   "metadata": {},
   "outputs": [],
   "source": [
    "import sqlite3\n",
    "\n",
    "# Path to the SQLite database\n",
    "db_path = \"alerts copy.db\"\n",
    "\n",
    "def delete_dispatch_table():\n",
    "    \"\"\"Deletes the dispatch table.\"\"\"\n",
    "    conn = sqlite3.connect(db_path)\n",
    "    cursor = conn.cursor()\n",
    "    \n",
    "    cursor.execute(\"ALTER TABLE dispatch DROP COLUMN id;\")\n",
    "    \n",
    "    conn.commit()\n",
    "    conn.close()\n"
   ]
  },
  {
   "cell_type": "code",
   "execution_count": 16,
   "metadata": {},
   "outputs": [
    {
     "name": "stdout",
     "output_type": "stream",
     "text": [
      "Firefighter table populated successfully.\n"
     ]
    }
   ],
   "source": [
    "import sqlite3\n",
    "\n",
    "# Path to the SQLite database\n",
    "db_path = \"alerts.db\"\n",
    "\n",
    "def populate_police():\n",
    "    \"\"\"Automatically inserts firefighter data with sequential integer IDs and predefined zones.\"\"\"\n",
    "    conn = sqlite3.connect(db_path)\n",
    "    cursor = conn.cursor()\n",
    "    \n",
    "    zones = [\"Hamdan Street\", \"Khalidiya Mall\", \"Corniche Road\", \"Reem Island\", \"Yas Mall\", \"Al Mushrif\", \"Al Raha Beach\"]\n",
    "\n",
    "    for i, zone in enumerate(zones, start=1):\n",
    "        query = \"INSERT INTO police (id, zone) VALUES (?, ?);\"\n",
    "        cursor.execute(query, (i, zone))\n",
    "    \n",
    "    conn.commit()\n",
    "    conn.close()\n",
    "    print(\"Firefighter table populated successfully.\")\n",
    "\n",
    "# Call the function to populate the table\n",
    "populate_police()\n"
   ]
  },
  {
   "cell_type": "code",
   "execution_count": null,
   "metadata": {},
   "outputs": [],
   "source": [
    "import sqlite3\n",
    "from services.geo_loc_info import get_nearby_establishments\n",
    "# Connect to the SQLite database\n",
    "db_path = \"../alerts.db\"  \n",
    "conn = sqlite3.connect(db_path)\n",
    "cursor = conn.cursor()\n",
    "\n",
    "# Get all column names from the 'alert' table\n",
    "cursor.execute(\"PRAGMA table_info(alert);\")\n",
    "columns = [col[1] for col in cursor.fetchall()]\n",
    "\n",
    "# Identify latitude and longitude columns\n",
    "lat_col = next((col for col in columns if \"lat\" in col.lower()), None)\n",
    "lon_col = next((col for col in columns if \"lon\" in col.lower()), None)\n",
    "\n",
    "if lat_col and lon_col:\n",
    "    # Fetch all latitude and longitude values\n",
    "    cursor.execute(f\"SELECT {lat_col}, {lon_col} FROM alert;\")\n",
    "    lat_lon_data = cursor.fetchall()\n",
    "\n",
    "    # Print results\n",
    "    for lat, lon in lat_lon_data:\n",
    "        print(f\"Latitude: {lat}, Longitude: {lon}\")\n",
    "\n",
    "\n",
    "else:\n",
    "    print(\"No latitude/longitude columns found in the 'alert' table.\")\n",
    "\n",
    "# Close the connection\n",
    "conn.close()\n"
   ]
  },
  {
   "cell_type": "code",
   "execution_count": 26,
   "metadata": {},
   "outputs": [
    {
     "name": "stdout",
     "output_type": "stream",
     "text": [
      "Dispatch table populated successfully.\n"
     ]
    }
   ],
   "source": [
    "import sqlite3\n",
    "\n",
    "# Path to the SQLite database\n",
    "db_path = \"alerts copy.db\"\n",
    "\n",
    "def populate_dispatch():\n",
    "    \"\"\"Automatically inserts dispatch data with string dispatch_id, alert_id, responder IDs, and dispatch times.\"\"\"\n",
    "    conn = sqlite3.connect(db_path)\n",
    "    cursor = conn.cursor()\n",
    "    \n",
    "    dispatch_data = [\n",
    "        (\"1\", \"1\", \"1\", \"1\", \"1\", \"1\", \"2025-02-01T10:54:15.152195\"),\n",
    "        (\"2\", \"2\", \"2\", \"2\", \"2\", \"2\", \"2025-02-01T10:54:15.152199\"),\n",
    "        (\"3\", \"3\", \"3\", \"3\", None, \"3\", \"2025-02-01T10:54:15.152200\"),\n",
    "        (\"4\", \"4\", \"4\", None, None, \"4\", \"2025-02-01T10:54:15.152201\"),\n",
    "        (\"5\", \"5\", \"5\", \"5\", None, None, \"2025-02-01T10:54:15.152201\"),\n",
    "        (\"6\", \"6\", \"6\", None, \"6\", None, \"2025-02-01T10:54:15.152202\"),\n",
    "        (\"7\", \"7\", None, \"7\", None, None, \"2025-02-01T10:54:15.152202\")\n",
    "    ]\n",
    "\n",
    "    for data in dispatch_data:\n",
    "        query = \"\"\"\n",
    "        INSERT INTO dispatch (id, alert_id, police_id, drone_id, ambulance_id, firefighter_id, dispatch_time)\n",
    "        VALUES (?, ?, ?, ?, ?, ?, ?);\n",
    "        \"\"\"\n",
    "        cursor.execute(query, data)\n",
    "    \n",
    "    conn.commit()\n",
    "    conn.close()\n",
    "    print(\"Dispatch table populated successfully.\")\n",
    "\n",
    "# Call the function to populate the dispatch table\n",
    "populate_dispatch()\n"
   ]
  },
  {
   "cell_type": "code",
   "execution_count": 9,
   "metadata": {},
   "outputs": [
    {
     "name": "stdout",
     "output_type": "stream",
     "text": [
      "Police, firefighter, drone, and ambulance locations updated successfully with slight modifications.\n"
     ]
    }
   ],
   "source": [
    "import sqlite3\n",
    "\n",
    "# Path to the SQLite database\n",
    "db_path = \"alerts.db\"\n",
    "\n",
    "def update_locations():\n",
    "    \"\"\"Updates startZoneLat and startZoneLong for police, firefighter, drone, and ambulance tables with slightly modified values.\"\"\"\n",
    "    conn = sqlite3.connect(db_path)\n",
    "    cursor = conn.cursor()\n",
    "    \n",
    "    # Slightly modified latitude and longitude values for each table\n",
    "    police_locations = {\n",
    "        1: (24.466900, 54.366800),  \n",
    "        2: (24.454300, 54.337000),  \n",
    "        3: (24.476500, 54.320300),  \n",
    "        4: (24.493600, 54.399600),  \n",
    "        5: (24.487000, 54.605300),  \n",
    "        6: (24.446600, 54.396700),  \n",
    "        7: (24.426000, 54.475100),  \n",
    "    }\n",
    "\n",
    "    firefighter_locations = {\n",
    "        1: (24.466750, 54.366950),  \n",
    "        2: (24.454500, 54.336600),  \n",
    "        3: (24.476700, 54.320100),  \n",
    "        4: (24.493300, 54.399900),  \n",
    "        5: (24.487200, 54.605100),  \n",
    "        6: (24.446300, 54.396900),  \n",
    "        7: (24.425700, 54.475400),  \n",
    "    }\n",
    "\n",
    "    drone_locations = {\n",
    "        1: (24.467000, 54.367200),  \n",
    "        2: (24.454700, 54.336800),  \n",
    "        3: (24.476600, 54.320500),  \n",
    "        4: (24.493500, 54.399700),  \n",
    "        5: (24.487100, 54.605500),  \n",
    "        6: (24.446500, 54.397000),  \n",
    "        7: (24.425900, 54.475200),  \n",
    "    }\n",
    "    \n",
    "    ambulance_locations = {\n",
    "        1: (24.466800, 54.366700),  \n",
    "        2: (24.454400, 54.337100),  \n",
    "        3: (24.476400, 54.320200),  \n",
    "        4: (24.493700, 54.399800),  \n",
    "        5: (24.487300, 54.605400),  \n",
    "        6: (24.446400, 54.396800),  \n",
    "        7: (24.425800, 54.475300),  \n",
    "    }\n",
    "\n",
    "    # Update police locations\n",
    "    for police_id, (lat, lon) in police_locations.items():\n",
    "        cursor.execute(\"UPDATE police SET startZoneLat = ?, startZoneLong = ? WHERE id = ?;\", (lat, lon, police_id))\n",
    "    \n",
    "    # Update firefighter locations\n",
    "    for firefighter_id, (lat, lon) in firefighter_locations.items():\n",
    "        cursor.execute(\"UPDATE firefighter SET startZoneLat = ?, startZoneLong = ? WHERE id = ?;\", (lat, lon, firefighter_id))\n",
    "    \n",
    "    # Update drone locations\n",
    "    for drone_id, (lat, lon) in drone_locations.items():\n",
    "        cursor.execute(\"UPDATE drone SET startZoneLat = ?, startZoneLong = ? WHERE id = ?;\", (lat, lon, drone_id))\n",
    "\n",
    "    # Update ambulance locations\n",
    "    for ambulance_id, (lat, lon) in ambulance_locations.items():\n",
    "        cursor.execute(\"UPDATE ambulance SET startZoneLat = ?, startZoneLong = ? WHERE id = ?;\", (lat, lon, ambulance_id))\n",
    "\n",
    "    conn.commit()\n",
    "    conn.close()\n",
    "    print(\"Police, firefighter, drone, and ambulance locations updated successfully with slight modifications.\")\n",
    "\n",
    "# Call the function to update the tables\n",
    "update_locations()\n"
   ]
  },
  {
   "cell_type": "code",
   "execution_count": null,
   "metadata": {},
   "outputs": [],
   "source": []
  }
 ],
 "metadata": {
  "kernelspec": {
   "display_name": "base",
   "language": "python",
   "name": "python3"
  },
  "language_info": {
   "codemirror_mode": {
    "name": "ipython",
    "version": 3
   },
   "file_extension": ".py",
   "mimetype": "text/x-python",
   "name": "python",
   "nbconvert_exporter": "python",
   "pygments_lexer": "ipython3",
   "version": "3.12.4"
  }
 },
 "nbformat": 4,
 "nbformat_minor": 2
}
