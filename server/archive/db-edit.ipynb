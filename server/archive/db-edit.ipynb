{
 "cells": [
  {
   "cell_type": "code",
   "execution_count": 25,
   "metadata": {},
   "outputs": [
    {
     "name": "stdout",
     "output_type": "stream",
     "text": [
      "Column 'responder_type' added successfully.\n"
     ]
    }
   ],
   "source": [
    "import sqlite3\n",
    "\n",
    "# Path to the SQLite database\n",
    "db_path = \"alerts copy.db\"\n",
    "\n",
    "# Connect to the SQLite database\n",
    "conn = sqlite3.connect(db_path)\n",
    "cursor = conn.cursor()\n",
    "\n",
    "# Add new column \"geo_info\" if it does not exist\n",
    "cursor.execute(\"PRAGMA table_info(alerts);\")\n",
    "existing_columns = [col[1] for col in cursor.fetchall()]\n",
    "\n",
    "if \"status\" not in existing_columns:\n",
    "    cursor.execute(\"ALTER TABLE alerts ADD COLUMN status STR;\")\n",
    "    conn.commit()\n",
    "    print(\"Column 'responder_type' added successfully.\")\n",
    "else:\n",
    "    print(\"Column 'responder_type' already exists.\")\n",
    "\n",
    "# Close connection\n",
    "conn.close()\n"
   ]
  },
  {
   "cell_type": "code",
   "execution_count": 7,
   "metadata": {},
   "outputs": [],
   "source": [
    "def update_alert(alert_id, column, new_value):\n",
    "    \"\"\"Updates a specific column in the alerts table for a given id.\"\"\"\n",
    "    conn = sqlite3.connect(db_path)\n",
    "    cursor = conn.cursor()\n",
    "    \n",
    "    # Ensure column name is valid\n",
    "    valid_columns = [\"type\", \"severity\", \"location\", \"latitude\", \"longitude\", \"timestamp\", \"description\", \"image\", \"video_path\", \"geo_info\", \"responder_type\", \"response_time\", \"resolution_time\", \"status\"]\n",
    "    if column not in valid_columns:\n",
    "        print(f\"Error: '{column}' is not a valid column name.\")\n",
    "        return\n",
    "    \n",
    "    # Create query and execute update\n",
    "    query = f\"UPDATE alerts SET {column} = ? WHERE id = ?\"\n",
    "    cursor.execute(query, (new_value, alert_id))\n",
    "    \n",
    "    conn.commit()\n",
    "    conn.close()\n",
    "    print(f\"Updated '{column}' of alert ID {alert_id} to '{new_value}'.\")"
   ]
  },
  {
   "cell_type": "code",
   "execution_count": 8,
   "metadata": {},
   "outputs": [
    {
     "ename": "OperationalError",
     "evalue": "no such table: alerts",
     "output_type": "error",
     "traceback": [
      "\u001b[1;31m---------------------------------------------------------------------------\u001b[0m",
      "\u001b[1;31mOperationalError\u001b[0m                          Traceback (most recent call last)",
      "Cell \u001b[1;32mIn[8], line 1\u001b[0m\n\u001b[1;32m----> 1\u001b[0m update_alert(\u001b[38;5;124m\"\u001b[39m\u001b[38;5;124m1\u001b[39m\u001b[38;5;124m\"\u001b[39m, \u001b[38;5;124m\"\u001b[39m\u001b[38;5;124mstatus\u001b[39m\u001b[38;5;124m\"\u001b[39m, \u001b[38;5;124m\"\u001b[39m\u001b[38;5;124munresolved\u001b[39m\u001b[38;5;124m\"\u001b[39m)\n\u001b[0;32m      2\u001b[0m update_alert(\u001b[38;5;124m\"\u001b[39m\u001b[38;5;124m2\u001b[39m\u001b[38;5;124m\"\u001b[39m, \u001b[38;5;124m\"\u001b[39m\u001b[38;5;124mstatus\u001b[39m\u001b[38;5;124m\"\u001b[39m, \u001b[38;5;124m\"\u001b[39m\u001b[38;5;124munresolved\u001b[39m\u001b[38;5;124m\"\u001b[39m)\n\u001b[0;32m      3\u001b[0m update_alert(\u001b[38;5;124m\"\u001b[39m\u001b[38;5;124m3\u001b[39m\u001b[38;5;124m\"\u001b[39m, \u001b[38;5;124m\"\u001b[39m\u001b[38;5;124mstatus\u001b[39m\u001b[38;5;124m\"\u001b[39m, \u001b[38;5;124m\"\u001b[39m\u001b[38;5;124munresolved\u001b[39m\u001b[38;5;124m\"\u001b[39m)\n",
      "Cell \u001b[1;32mIn[7], line 21\u001b[0m, in \u001b[0;36mupdate_alert\u001b[1;34m(alert_id, column, new_value)\u001b[0m\n\u001b[0;32m     19\u001b[0m \u001b[38;5;66;03m# Create query and execute update\u001b[39;00m\n\u001b[0;32m     20\u001b[0m query \u001b[38;5;241m=\u001b[39m \u001b[38;5;124mf\u001b[39m\u001b[38;5;124m\"\u001b[39m\u001b[38;5;124mUPDATE alerts SET \u001b[39m\u001b[38;5;132;01m{\u001b[39;00mcolumn\u001b[38;5;132;01m}\u001b[39;00m\u001b[38;5;124m = ? WHERE id = ?\u001b[39m\u001b[38;5;124m\"\u001b[39m\n\u001b[1;32m---> 21\u001b[0m cursor\u001b[38;5;241m.\u001b[39mexecute(query, (new_value, alert_id))\n\u001b[0;32m     23\u001b[0m conn\u001b[38;5;241m.\u001b[39mcommit()\n\u001b[0;32m     24\u001b[0m conn\u001b[38;5;241m.\u001b[39mclose()\n",
      "\u001b[1;31mOperationalError\u001b[0m: no such table: alerts"
     ]
    }
   ],
   "source": [
    "update_alert(\"1\", \"status\", \"unresolved\")\n",
    "update_alert(\"2\", \"status\", \"unresolved\")\n",
    "update_alert(\"3\", \"status\", \"unresolved\")\n",
    "update_alert(\"4\", \"status\", \"unresolved\")\n",
    "update_alert(\"5\", \"status\", \"unresolved\")\n",
    "update_alert(\"6\", \"status\", \"unresolved\")\n",
    "update_alert(\"7\", \"status\", \"unresolved\")"
   ]
  },
  {
   "cell_type": "code",
   "execution_count": 27,
   "metadata": {},
   "outputs": [
    {
     "name": "stdout",
     "output_type": "stream",
     "text": [
      "Updated 'responder_type' of alert ID 1 to 'firefighter'.\n",
      "Updated 'response_time' of alert ID 1 to '22'.\n",
      "Updated 'resolution_time' of alert ID 1 to '42'.\n",
      "Updated 'status' of alert ID 1 to 'resolved'.\n"
     ]
    }
   ],
   "source": [
    "import random\n",
    "\n",
    "response_time = random.randint(1, 50)\n",
    "resolution_time = response_time + 20\n",
    "\n",
    "update_alert(\"1\", \"responder_type\", \"firefighter\")\n",
    "update_alert(\"1\", \"response_time\", response_time)\n",
    "update_alert(\"1\", \"resolution_time\", resolution_time)\n",
    "update_alert(\"1\", \"status\", \"resolved\")"
   ]
  },
  {
   "cell_type": "code",
   "execution_count": 28,
   "metadata": {},
   "outputs": [
    {
     "name": "stdout",
     "output_type": "stream",
     "text": [
      "Updated 'responder_type' of alert ID 2 to 'firefighter'.\n",
      "Updated 'response_time' of alert ID 2 to '44'.\n",
      "Updated 'resolution_time' of alert ID 2 to '0'.\n",
      "Updated 'status' of alert ID 2 to 'in progress'.\n"
     ]
    }
   ],
   "source": [
    "import random\n",
    "\n",
    "response_time = random.randint(1, 50)\n",
    "resolution_time = response_time + 20\n",
    "\n",
    "update_alert(\"2\", \"responder_type\", \"firefighter\")\n",
    "update_alert(\"2\", \"response_time\", response_time)\n",
    "update_alert(\"2\", \"resolution_time\", 0)\n",
    "update_alert(\"2\", \"status\", \"in progress\")"
   ]
  },
  {
   "cell_type": "code",
   "execution_count": 29,
   "metadata": {},
   "outputs": [
    {
     "name": "stdout",
     "output_type": "stream",
     "text": [
      "Updated 'responder_type' of alert ID 3 to 'police'.\n",
      "Updated 'response_time' of alert ID 3 to '0'.\n",
      "Updated 'resolution_time' of alert ID 3 to '0'.\n",
      "Updated 'status' of alert ID 3 to 'unresolved'.\n"
     ]
    }
   ],
   "source": [
    "import random\n",
    "\n",
    "response_time = random.randint(1, 50)\n",
    "resolution_time = response_time + 20\n",
    "\n",
    "update_alert(\"3\", \"responder_type\", \"police\")\n",
    "update_alert(\"3\", \"response_time\", 0)\n",
    "update_alert(\"3\", \"resolution_time\", 0)\n",
    "update_alert(\"3\", \"status\", \"unresolved\")"
   ]
  },
  {
   "cell_type": "code",
   "execution_count": 30,
   "metadata": {},
   "outputs": [
    {
     "name": "stdout",
     "output_type": "stream",
     "text": [
      "Updated 'responder_type' of alert ID 4 to 'police'.\n",
      "Updated 'response_time' of alert ID 4 to '12'.\n",
      "Updated 'resolution_time' of alert ID 4 to '32'.\n",
      "Updated 'status' of alert ID 4 to 'resolved'.\n"
     ]
    }
   ],
   "source": [
    "import random\n",
    "\n",
    "response_time = random.randint(1, 50)\n",
    "resolution_time = response_time + 20\n",
    "\n",
    "update_alert(\"4\", \"responder_type\", \"police\")\n",
    "update_alert(\"4\", \"response_time\", response_time)\n",
    "update_alert(\"4\", \"resolution_time\", resolution_time)\n",
    "update_alert(\"4\", \"status\", \"resolved\")"
   ]
  },
  {
   "cell_type": "code",
   "execution_count": 31,
   "metadata": {},
   "outputs": [
    {
     "name": "stdout",
     "output_type": "stream",
     "text": [
      "Updated 'responder_type' of alert ID 5 to 'firefighter'.\n",
      "Updated 'response_time' of alert ID 5 to '26'.\n",
      "Updated 'resolution_time' of alert ID 5 to '0'.\n",
      "Updated 'status' of alert ID 5 to 'in progress'.\n"
     ]
    }
   ],
   "source": [
    "import random\n",
    "\n",
    "response_time = random.randint(1, 50)\n",
    "resolution_time = response_time + 20\n",
    "\n",
    "update_alert(\"5\", \"responder_type\", \"firefighter\")\n",
    "update_alert(\"5\", \"response_time\", response_time)\n",
    "update_alert(\"5\", \"resolution_time\", 0)\n",
    "update_alert(\"5\", \"status\", \"in progress\")"
   ]
  },
  {
   "cell_type": "code",
   "execution_count": 32,
   "metadata": {},
   "outputs": [
    {
     "name": "stdout",
     "output_type": "stream",
     "text": [
      "Updated 'responder_type' of alert ID 6 to 'firefighter'.\n",
      "Updated 'response_time' of alert ID 6 to '5'.\n",
      "Updated 'resolution_time' of alert ID 6 to '0'.\n",
      "Updated 'status' of alert ID 6 to 'in progress'.\n"
     ]
    }
   ],
   "source": [
    "import random\n",
    "\n",
    "response_time = random.randint(1, 50)\n",
    "resolution_time = response_time + 20\n",
    "\n",
    "update_alert(\"6\", \"responder_type\", \"firefighter\")\n",
    "update_alert(\"6\", \"response_time\", response_time)\n",
    "update_alert(\"6\", \"resolution_time\", 0)\n",
    "update_alert(\"6\", \"status\", \"in progress\")"
   ]
  },
  {
   "cell_type": "code",
   "execution_count": 33,
   "metadata": {},
   "outputs": [
    {
     "name": "stdout",
     "output_type": "stream",
     "text": [
      "Updated 'responder_type' of alert ID 7 to 'police'.\n",
      "Updated 'response_time' of alert ID 7 to '17'.\n",
      "Updated 'resolution_time' of alert ID 7 to '37'.\n",
      "Updated 'status' of alert ID 7 to 'resolved'.\n"
     ]
    }
   ],
   "source": [
    "import random\n",
    "\n",
    "response_time = random.randint(1, 50)\n",
    "resolution_time = response_time + 20\n",
    "\n",
    "update_alert(\"7\", \"responder_type\", \"police\")\n",
    "update_alert(\"7\", \"response_time\", response_time)\n",
    "update_alert(\"7\", \"resolution_time\", resolution_time)\n",
    "update_alert(\"7\", \"status\", \"resolved\")"
   ]
  },
  {
   "cell_type": "code",
   "execution_count": null,
   "metadata": {},
   "outputs": [],
   "source": []
  },
  {
   "cell_type": "code",
   "execution_count": null,
   "metadata": {},
   "outputs": [],
   "source": []
  }
 ],
 "metadata": {
  "kernelspec": {
   "display_name": "base",
   "language": "python",
   "name": "python3"
  },
  "language_info": {
   "codemirror_mode": {
    "name": "ipython",
    "version": 3
   },
   "file_extension": ".py",
   "mimetype": "text/x-python",
   "name": "python",
   "nbconvert_exporter": "python",
   "pygments_lexer": "ipython3",
   "version": "3.11.4"
  }
 },
 "nbformat": 4,
 "nbformat_minor": 2
}
