{
 "cells": [
  {
   "cell_type": "code",
   "execution_count": 2,
   "metadata": {},
   "outputs": [
    {
     "name": "stdout",
     "output_type": "stream",
     "text": [
      "Updated 'description' of alert ID 1 to 'Two individuals involved in 2 hospitals.'.\n"
     ]
    }
   ],
   "source": [
    "import sqlite3\n",
    "\n",
    "db_path = \"alerts.db\"\n",
    "\n",
    "def update_alert(alert_id, column, new_value):\n",
    "    conn = sqlite3.connect(db_path)\n",
    "    cursor = conn.cursor()\n",
    "    \n",
    "    valid_columns = [\"type\", \"severity\", \"location\", \"latitude\", \"longitude\", \"timestamp\", \"description\", \"image\", \"resolved\", \"video_path\"]\n",
    "    if column not in valid_columns:\n",
    "        print(f\"Error: '{column}' is not a valid column name.\")\n",
    "        return\n",
    "\n",
    "    query = f\"UPDATE alerts SET {column} = ? WHERE id = ?\"\n",
    "    cursor.execute(query, (new_value, alert_id))\n",
    "    \n",
    "    conn.commit()\n",
    "    conn.close()\n",
    "    print(f\"Updated '{column}' of alert ID {alert_id} to '{new_value}'.\")\n",
    "\n",
    "update_alert(1, \"description\", \"Two individuals involved in 2 hospitals.\") \n"
   ]
  },
  {
   "cell_type": "code",
   "execution_count": null,
   "metadata": {},
   "outputs": [],
   "source": []
  }
 ],
 "metadata": {
  "kernelspec": {
   "display_name": "base",
   "language": "python",
   "name": "python3"
  },
  "language_info": {
   "codemirror_mode": {
    "name": "ipython",
    "version": 3
   },
   "file_extension": ".py",
   "mimetype": "text/x-python",
   "name": "python",
   "nbconvert_exporter": "python",
   "pygments_lexer": "ipython3",
   "version": "3.12.4"
  }
 },
 "nbformat": 4,
 "nbformat_minor": 2
}
